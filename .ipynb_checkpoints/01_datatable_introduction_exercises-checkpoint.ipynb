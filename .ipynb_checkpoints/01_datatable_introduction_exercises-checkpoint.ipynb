{
 "cells": [
  {
   "cell_type": "markdown",
   "id": "buried-encounter",
   "metadata": {
    "id": "buried-encounter",
    "papermill": {
     "duration": 0.012515,
     "end_time": "2021-07-07T06:25:38.201766",
     "exception": false,
     "start_time": "2021-07-07T06:25:38.189251",
     "status": "completed"
    },
    "tags": []
   },
   "source": [
    "<center>\n",
    "    This is Set 1: Pandas Introduction (Exercises 1-10)\n",
    "</center>"
   ]
  },
  {
   "cell_type": "markdown",
   "id": "conditional-layout",
   "metadata": {
    "id": "conditional-layout",
    "papermill": {
     "duration": 0.012639,
     "end_time": "2021-07-07T06:25:38.227099",
     "exception": false,
     "start_time": "2021-07-07T06:25:38.214460",
     "status": "completed"
    },
    "tags": []
   },
   "source": [
    "**Exercise 1: Install the latest version of pandas**"
   ]
  },
  {
   "cell_type": "code",
   "execution_count": 1,
   "id": "elegant-programmer",
   "metadata": {
    "id": "elegant-programmer",
    "papermill": {
     "duration": 0.013167,
     "end_time": "2021-07-07T06:25:38.254184",
     "exception": false,
     "start_time": "2021-07-07T06:25:38.241017",
     "status": "completed"
    },
    "tags": []
   },
   "outputs": [
    {
     "name": "stdout",
     "output_type": "stream",
     "text": [
      "Requirement already satisfied: pandas in c:\\users\\ryblo\\documents\\projects\\experiments\\pandas_exercises\\venv\\lib\\site-packages (1.3.5)\n",
      "Requirement already satisfied: python-dateutil>=2.7.3 in c:\\users\\ryblo\\documents\\projects\\experiments\\pandas_exercises\\venv\\lib\\site-packages (from pandas) (2.8.2)\n",
      "Requirement already satisfied: numpy>=1.17.3 in c:\\users\\ryblo\\documents\\projects\\experiments\\pandas_exercises\\venv\\lib\\site-packages (from pandas) (1.21.4)\n",
      "Requirement already satisfied: pytz>=2017.3 in c:\\users\\ryblo\\documents\\projects\\experiments\\pandas_exercises\\venv\\lib\\site-packages (from pandas) (2021.3)\n",
      "Requirement already satisfied: six>=1.5 in c:\\users\\ryblo\\documents\\projects\\experiments\\pandas_exercises\\venv\\lib\\site-packages (from python-dateutil>=2.7.3->pandas) (1.16.0)\n"
     ]
    }
   ],
   "source": [
    "!pip install pandas"
   ]
  },
  {
   "cell_type": "markdown",
   "id": "polyphonic-concept",
   "metadata": {
    "id": "polyphonic-concept",
    "papermill": {
     "duration": 0.012494,
     "end_time": "2021-07-07T06:25:38.280071",
     "exception": false,
     "start_time": "2021-07-07T06:25:38.267577",
     "status": "completed"
    },
    "tags": []
   },
   "source": [
    "**Exercise 2: Import the pandas package as `pd`**"
   ]
  },
  {
   "cell_type": "code",
   "execution_count": 16,
   "id": "transparent-meeting",
   "metadata": {
    "id": "transparent-meeting",
    "papermill": {
     "duration": 0.012536,
     "end_time": "2021-07-07T06:25:38.307397",
     "exception": false,
     "start_time": "2021-07-07T06:25:38.294861",
     "status": "completed"
    },
    "tags": []
   },
   "outputs": [],
   "source": [
    "import pandas as pd\n",
    "import numpy as np"
   ]
  },
  {
   "cell_type": "markdown",
   "id": "opposite-alias",
   "metadata": {
    "id": "opposite-alias",
    "papermill": {
     "duration": 0.012227,
     "end_time": "2021-07-07T06:25:38.332197",
     "exception": false,
     "start_time": "2021-07-07T06:25:38.319970",
     "status": "completed"
    },
    "tags": []
   },
   "source": [
    "**Exercise 3: Display the version of the datatable package**"
   ]
  },
  {
   "cell_type": "code",
   "execution_count": 3,
   "id": "defined-leadership",
   "metadata": {
    "id": "defined-leadership",
    "papermill": {
     "duration": 0.012969,
     "end_time": "2021-07-07T06:25:38.357765",
     "exception": false,
     "start_time": "2021-07-07T06:25:38.344796",
     "status": "completed"
    },
    "tags": []
   },
   "outputs": [
    {
     "data": {
      "text/plain": [
       "'1.3.5'"
      ]
     },
     "execution_count": 3,
     "metadata": {},
     "output_type": "execute_result"
    }
   ],
   "source": [
    "pd.__version__"
   ]
  },
  {
   "cell_type": "markdown",
   "id": "complete-isaac",
   "metadata": {
    "id": "complete-isaac",
    "papermill": {
     "duration": 0.013513,
     "end_time": "2021-07-07T06:25:38.388291",
     "exception": false,
     "start_time": "2021-07-07T06:25:38.374778",
     "status": "completed"
    },
    "tags": []
   },
   "source": [
    "**Exercise 4: Create an empty datatable frame and assign it to `data`**"
   ]
  },
  {
   "cell_type": "code",
   "execution_count": 5,
   "id": "dominican-surveillance",
   "metadata": {
    "id": "dominican-surveillance",
    "papermill": {
     "duration": 0.013553,
     "end_time": "2021-07-07T06:25:38.415653",
     "exception": false,
     "start_time": "2021-07-07T06:25:38.402100",
     "status": "completed"
    },
    "tags": []
   },
   "outputs": [
    {
     "data": {
      "text/plain": [
       "pandas.core.frame.DataFrame"
      ]
     },
     "execution_count": 5,
     "metadata": {},
     "output_type": "execute_result"
    }
   ],
   "source": [
    "data = pd.DataFrame()\n",
    "type(data)"
   ]
  },
  {
   "cell_type": "markdown",
   "id": "interstate-complex",
   "metadata": {
    "id": "interstate-complex",
    "papermill": {
     "duration": 0.012498,
     "end_time": "2021-07-07T06:25:38.441930",
     "exception": false,
     "start_time": "2021-07-07T06:25:38.429432",
     "status": "completed"
    },
    "tags": []
   },
   "source": [
    "**Exercise 5: Create a frame with a column `v1` with integer values from 0 to 9, a column `v2` with values ['Y', 'O', 'U', 'C', 'A', 'N', 'D', 'O', 'I', 'T'] and assign it to `data`**"
   ]
  },
  {
   "cell_type": "code",
   "execution_count": 24,
   "id": "authorized-disabled",
   "metadata": {
    "id": "authorized-disabled",
    "papermill": {
     "duration": 0.013051,
     "end_time": "2021-07-07T06:25:38.467899",
     "exception": false,
     "start_time": "2021-07-07T06:25:38.454848",
     "status": "completed"
    },
    "tags": []
   },
   "outputs": [],
   "source": [
    "data = pd.DataFrame({\"v1\":range(10), \"v2\":['Y', 'O', 'U', 'C', 'A', 'N', 'D', 'O', 'I', 'T']})\n",
    "# or faster solution\n",
    "data = pd.DataFrame(data=np.column_stack([range(10), ['Y', 'O', 'U', 'C', 'A', 'N', 'D', 'O', 'I', 'T']]),\n",
    "                   columns=['v1', 'v2'])"
   ]
  },
  {
   "cell_type": "markdown",
   "id": "confirmed-payroll",
   "metadata": {
    "id": "confirmed-payroll",
    "papermill": {
     "duration": 0.012372,
     "end_time": "2021-07-07T06:25:38.493022",
     "exception": false,
     "start_time": "2021-07-07T06:25:38.480650",
     "status": "completed"
    },
    "tags": []
   },
   "source": [
    "**Exercise 6: Display `data`**"
   ]
  },
  {
   "cell_type": "code",
   "execution_count": 25,
   "id": "unlike-digit",
   "metadata": {
    "id": "unlike-digit",
    "papermill": {
     "duration": 0.012327,
     "end_time": "2021-07-07T06:25:38.518146",
     "exception": false,
     "start_time": "2021-07-07T06:25:38.505819",
     "status": "completed"
    },
    "tags": []
   },
   "outputs": [
    {
     "data": {
      "text/html": [
       "<div>\n",
       "<style scoped>\n",
       "    .dataframe tbody tr th:only-of-type {\n",
       "        vertical-align: middle;\n",
       "    }\n",
       "\n",
       "    .dataframe tbody tr th {\n",
       "        vertical-align: top;\n",
       "    }\n",
       "\n",
       "    .dataframe thead th {\n",
       "        text-align: right;\n",
       "    }\n",
       "</style>\n",
       "<table border=\"1\" class=\"dataframe\">\n",
       "  <thead>\n",
       "    <tr style=\"text-align: right;\">\n",
       "      <th></th>\n",
       "      <th>v1</th>\n",
       "      <th>v2</th>\n",
       "    </tr>\n",
       "  </thead>\n",
       "  <tbody>\n",
       "    <tr>\n",
       "      <th>0</th>\n",
       "      <td>0</td>\n",
       "      <td>Y</td>\n",
       "    </tr>\n",
       "    <tr>\n",
       "      <th>1</th>\n",
       "      <td>1</td>\n",
       "      <td>O</td>\n",
       "    </tr>\n",
       "    <tr>\n",
       "      <th>2</th>\n",
       "      <td>2</td>\n",
       "      <td>U</td>\n",
       "    </tr>\n",
       "    <tr>\n",
       "      <th>3</th>\n",
       "      <td>3</td>\n",
       "      <td>C</td>\n",
       "    </tr>\n",
       "    <tr>\n",
       "      <th>4</th>\n",
       "      <td>4</td>\n",
       "      <td>A</td>\n",
       "    </tr>\n",
       "    <tr>\n",
       "      <th>5</th>\n",
       "      <td>5</td>\n",
       "      <td>N</td>\n",
       "    </tr>\n",
       "    <tr>\n",
       "      <th>6</th>\n",
       "      <td>6</td>\n",
       "      <td>D</td>\n",
       "    </tr>\n",
       "    <tr>\n",
       "      <th>7</th>\n",
       "      <td>7</td>\n",
       "      <td>O</td>\n",
       "    </tr>\n",
       "    <tr>\n",
       "      <th>8</th>\n",
       "      <td>8</td>\n",
       "      <td>I</td>\n",
       "    </tr>\n",
       "    <tr>\n",
       "      <th>9</th>\n",
       "      <td>9</td>\n",
       "      <td>T</td>\n",
       "    </tr>\n",
       "  </tbody>\n",
       "</table>\n",
       "</div>"
      ],
      "text/plain": [
       "  v1 v2\n",
       "0  0  Y\n",
       "1  1  O\n",
       "2  2  U\n",
       "3  3  C\n",
       "4  4  A\n",
       "5  5  N\n",
       "6  6  D\n",
       "7  7  O\n",
       "8  8  I\n",
       "9  9  T"
      ]
     },
     "execution_count": 25,
     "metadata": {},
     "output_type": "execute_result"
    }
   ],
   "source": [
    "data"
   ]
  },
  {
   "cell_type": "markdown",
   "id": "distant-trouble",
   "metadata": {
    "id": "distant-trouble",
    "papermill": {
     "duration": 0.013061,
     "end_time": "2021-07-07T06:25:38.544235",
     "exception": false,
     "start_time": "2021-07-07T06:25:38.531174",
     "status": "completed"
    },
    "tags": []
   },
   "source": [
    "**Exercise 7: Display the first 5 rows and the last 3 rows of `data`**"
   ]
  },
  {
   "cell_type": "code",
   "execution_count": 32,
   "id": "broadband-chrome",
   "metadata": {
    "id": "broadband-chrome",
    "papermill": {
     "duration": 0.013146,
     "end_time": "2021-07-07T06:25:38.570235",
     "exception": false,
     "start_time": "2021-07-07T06:25:38.557089",
     "status": "completed"
    },
    "tags": []
   },
   "outputs": [
    {
     "data": {
      "text/html": [
       "<div>\n",
       "<style scoped>\n",
       "    .dataframe tbody tr th:only-of-type {\n",
       "        vertical-align: middle;\n",
       "    }\n",
       "\n",
       "    .dataframe tbody tr th {\n",
       "        vertical-align: top;\n",
       "    }\n",
       "\n",
       "    .dataframe thead th {\n",
       "        text-align: right;\n",
       "    }\n",
       "</style>\n",
       "<table border=\"1\" class=\"dataframe\">\n",
       "  <thead>\n",
       "    <tr style=\"text-align: right;\">\n",
       "      <th></th>\n",
       "      <th>v1</th>\n",
       "      <th>v2</th>\n",
       "    </tr>\n",
       "  </thead>\n",
       "  <tbody>\n",
       "    <tr>\n",
       "      <th>0</th>\n",
       "      <td>0</td>\n",
       "      <td>Y</td>\n",
       "    </tr>\n",
       "    <tr>\n",
       "      <th>1</th>\n",
       "      <td>1</td>\n",
       "      <td>O</td>\n",
       "    </tr>\n",
       "    <tr>\n",
       "      <th>2</th>\n",
       "      <td>2</td>\n",
       "      <td>U</td>\n",
       "    </tr>\n",
       "    <tr>\n",
       "      <th>3</th>\n",
       "      <td>3</td>\n",
       "      <td>C</td>\n",
       "    </tr>\n",
       "    <tr>\n",
       "      <th>4</th>\n",
       "      <td>4</td>\n",
       "      <td>A</td>\n",
       "    </tr>\n",
       "  </tbody>\n",
       "</table>\n",
       "</div>"
      ],
      "text/plain": [
       "  v1 v2\n",
       "0  0  Y\n",
       "1  1  O\n",
       "2  2  U\n",
       "3  3  C\n",
       "4  4  A"
      ]
     },
     "execution_count": 32,
     "metadata": {},
     "output_type": "execute_result"
    }
   ],
   "source": [
    "data[:5]"
   ]
  },
  {
   "cell_type": "code",
   "execution_count": 33,
   "id": "incoming-visit",
   "metadata": {
    "id": "incoming-visit",
    "papermill": {
     "duration": 0.012992,
     "end_time": "2021-07-07T06:25:38.595908",
     "exception": false,
     "start_time": "2021-07-07T06:25:38.582916",
     "status": "completed"
    },
    "tags": []
   },
   "outputs": [
    {
     "data": {
      "text/html": [
       "<div>\n",
       "<style scoped>\n",
       "    .dataframe tbody tr th:only-of-type {\n",
       "        vertical-align: middle;\n",
       "    }\n",
       "\n",
       "    .dataframe tbody tr th {\n",
       "        vertical-align: top;\n",
       "    }\n",
       "\n",
       "    .dataframe thead th {\n",
       "        text-align: right;\n",
       "    }\n",
       "</style>\n",
       "<table border=\"1\" class=\"dataframe\">\n",
       "  <thead>\n",
       "    <tr style=\"text-align: right;\">\n",
       "      <th></th>\n",
       "      <th>v1</th>\n",
       "      <th>v2</th>\n",
       "    </tr>\n",
       "  </thead>\n",
       "  <tbody>\n",
       "    <tr>\n",
       "      <th>7</th>\n",
       "      <td>7</td>\n",
       "      <td>O</td>\n",
       "    </tr>\n",
       "    <tr>\n",
       "      <th>8</th>\n",
       "      <td>8</td>\n",
       "      <td>I</td>\n",
       "    </tr>\n",
       "    <tr>\n",
       "      <th>9</th>\n",
       "      <td>9</td>\n",
       "      <td>T</td>\n",
       "    </tr>\n",
       "  </tbody>\n",
       "</table>\n",
       "</div>"
      ],
      "text/plain": [
       "  v1 v2\n",
       "7  7  O\n",
       "8  8  I\n",
       "9  9  T"
      ]
     },
     "execution_count": 33,
     "metadata": {},
     "output_type": "execute_result"
    }
   ],
   "source": [
    "data[-3:]"
   ]
  },
  {
   "cell_type": "markdown",
   "id": "adapted-familiar",
   "metadata": {
    "id": "adapted-familiar",
    "papermill": {
     "duration": 0.012366,
     "end_time": "2021-07-07T06:25:38.620822",
     "exception": false,
     "start_time": "2021-07-07T06:25:38.608456",
     "status": "completed"
    },
    "tags": []
   },
   "source": [
    "**Exercise 8: Display the number of rows and number of columns in `data`**"
   ]
  },
  {
   "cell_type": "code",
   "execution_count": 39,
   "id": "functional-restoration",
   "metadata": {
    "id": "functional-restoration",
    "papermill": {
     "duration": 0.01223,
     "end_time": "2021-07-07T06:25:38.647209",
     "exception": false,
     "start_time": "2021-07-07T06:25:38.634979",
     "status": "completed"
    },
    "tags": []
   },
   "outputs": [
    {
     "data": {
      "text/plain": [
       "10"
      ]
     },
     "execution_count": 39,
     "metadata": {},
     "output_type": "execute_result"
    }
   ],
   "source": [
    "data.shape[0]"
   ]
  },
  {
   "cell_type": "code",
   "execution_count": 35,
   "id": "impressed-belle",
   "metadata": {
    "id": "impressed-belle",
    "papermill": {
     "duration": 0.012309,
     "end_time": "2021-07-07T06:25:38.672151",
     "exception": false,
     "start_time": "2021-07-07T06:25:38.659842",
     "status": "completed"
    },
    "tags": []
   },
   "outputs": [
    {
     "data": {
      "text/plain": [
       "2"
      ]
     },
     "execution_count": 35,
     "metadata": {},
     "output_type": "execute_result"
    }
   ],
   "source": [
    "data.shape[1]"
   ]
  },
  {
   "cell_type": "markdown",
   "id": "molecular-wright",
   "metadata": {
    "id": "molecular-wright",
    "papermill": {
     "duration": 0.013482,
     "end_time": "2021-07-07T06:25:38.698323",
     "exception": false,
     "start_time": "2021-07-07T06:25:38.684841",
     "status": "completed"
    },
    "tags": []
   },
   "source": [
    "**Exercise 9: Display the shape of `data`**"
   ]
  },
  {
   "cell_type": "code",
   "execution_count": 36,
   "id": "minimal-cornell",
   "metadata": {
    "id": "minimal-cornell",
    "papermill": {
     "duration": 0.013086,
     "end_time": "2021-07-07T06:25:38.724169",
     "exception": false,
     "start_time": "2021-07-07T06:25:38.711083",
     "status": "completed"
    },
    "tags": []
   },
   "outputs": [
    {
     "data": {
      "text/plain": [
       "(10, 2)"
      ]
     },
     "execution_count": 36,
     "metadata": {},
     "output_type": "execute_result"
    }
   ],
   "source": [
    "data.shape"
   ]
  },
  {
   "cell_type": "markdown",
   "id": "impressive-defense",
   "metadata": {
    "id": "impressive-defense",
    "papermill": {
     "duration": 0.01215,
     "end_time": "2021-07-07T06:25:38.749319",
     "exception": false,
     "start_time": "2021-07-07T06:25:38.737169",
     "status": "completed"
    },
    "tags": []
   },
   "source": [
    "**Exercise 10: Display the column names of `data`**"
   ]
  },
  {
   "cell_type": "code",
   "execution_count": 43,
   "id": "executed-tulsa",
   "metadata": {
    "id": "executed-tulsa",
    "papermill": {
     "duration": 0.012154,
     "end_time": "2021-07-07T06:25:38.774192",
     "exception": false,
     "start_time": "2021-07-07T06:25:38.762038",
     "status": "completed"
    },
    "tags": []
   },
   "outputs": [
    {
     "data": {
      "text/plain": [
       "Index(['v1', 'v2'], dtype='object')"
      ]
     },
     "execution_count": 43,
     "metadata": {},
     "output_type": "execute_result"
    }
   ],
   "source": [
    "data.columns"
   ]
  },
  {
   "cell_type": "markdown",
   "id": "endangered-physiology",
   "metadata": {
    "id": "endangered-physiology",
    "papermill": {
     "duration": 0.013236,
     "end_time": "2021-07-07T06:25:38.799963",
     "exception": false,
     "start_time": "2021-07-07T06:25:38.786727",
     "status": "completed"
    },
    "tags": []
   },
   "source": [
    "✅ This completes Set 1: Pandas Introduction (Exercises 1-10) \n",
    "\n",
    "You can find all the exercises and solutions on [GitHub](https://github.com/vopani/datatableton#exercises-)"
   ]
  },
  {
   "cell_type": "code",
   "execution_count": null,
   "id": "d9621e6d-80db-45e5-8d60-c2220101903c",
   "metadata": {},
   "outputs": [],
   "source": []
  }
 ],
 "metadata": {
  "colab": {
   "name": "01_datatable_introduction_exercises.ipynb",
   "provenance": []
  },
  "kernelspec": {
   "display_name": "pandas_exercises",
   "language": "python",
   "name": "pandas_exercises"
  },
  "language_info": {
   "codemirror_mode": {
    "name": "ipython",
    "version": 3
   },
   "file_extension": ".py",
   "mimetype": "text/x-python",
   "name": "python",
   "nbconvert_exporter": "python",
   "pygments_lexer": "ipython3",
   "version": "3.8.10"
  },
  "papermill": {
   "default_parameters": {},
   "duration": 9.893322,
   "end_time": "2021-07-07T06:25:40.070449",
   "environment_variables": {},
   "exception": null,
   "input_path": "__notebook__.ipynb",
   "output_path": "__notebook__.ipynb",
   "parameters": {},
   "start_time": "2021-07-07T06:25:30.177127",
   "version": "2.3.3"
  }
 },
 "nbformat": 4,
 "nbformat_minor": 5
}
