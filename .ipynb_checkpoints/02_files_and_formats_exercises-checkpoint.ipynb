{
 "cells": [
  {
   "cell_type": "markdown",
   "id": "b1cb532b",
   "metadata": {
    "id": "b1cb532b",
    "papermill": {
     "duration": 0.023342,
     "end_time": "2021-07-13T06:13:53.247916",
     "exception": false,
     "start_time": "2021-07-13T06:13:53.224574",
     "status": "completed"
    },
    "tags": []
   },
   "source": [
    "<center>\n",
    "    This is Set 2: Files and Formats (Exercises 11-20)\n",
    "</center>"
   ]
  },
  {
   "cell_type": "markdown",
   "id": "44dfad97",
   "metadata": {
    "id": "44dfad97",
    "papermill": {
     "duration": 0.023132,
     "end_time": "2021-07-13T06:13:53.295747",
     "exception": false,
     "start_time": "2021-07-13T06:13:53.272615",
     "status": "completed"
    },
    "tags": []
   },
   "source": [
    "**Prerequisites**\n",
    "* Additional package `pyarrow` should be installed.\n",
    "* Small example values along with the sample dataset [datatableton_sample.zip](https://github.com/vopani/datatableton/blob/main/data/datatableton_sample.zip) will be used for the exercises."
   ]
  },
  {
   "cell_type": "code",
   "execution_count": 33,
   "id": "ad8ddf33",
   "metadata": {
    "_kg_hide-output": true,
    "id": "ad8ddf33",
    "outputId": "18f6a5eb-11b7-4f1c-d17c-a4f1b9fac5ec",
    "papermill": {
     "duration": 57.719478,
     "end_time": "2021-07-13T06:14:51.038854",
     "exception": false,
     "start_time": "2021-07-13T06:13:53.319376",
     "status": "completed"
    },
    "tags": []
   },
   "outputs": [
    {
     "name": "stdout",
     "output_type": "stream",
     "text": [
      "Requirement already satisfied: pyarrow in c:\\users\\ryblo\\documents\\projects\\experiments\\pandas_exercises\\venv\\lib\\site-packages (6.0.1)\n",
      "Requirement already satisfied: numpy>=1.16.6 in c:\\users\\ryblo\\documents\\projects\\experiments\\pandas_exercises\\venv\\lib\\site-packages (from pyarrow) (1.21.4)\n"
     ]
    }
   ],
   "source": [
    "!pip install pyarrow"
   ]
  },
  {
   "cell_type": "code",
   "execution_count": 34,
   "id": "ab51cc31",
   "metadata": {
    "id": "ab51cc31",
    "outputId": "d840bb66-de13-4901-eb31-6669fe0ab41d",
    "papermill": {
     "duration": 0.30217,
     "end_time": "2021-07-13T06:14:51.375337",
     "exception": false,
     "start_time": "2021-07-13T06:14:51.073167",
     "status": "completed"
    },
    "tags": []
   },
   "outputs": [],
   "source": [
    "import numpy as np\n",
    "import pandas as pd\n",
    "import pyarrow as pa\n",
    "from zipfile import ZipFile\n",
    "\n",
    "dframe = pd.DataFrame({'v1': range(11), 'v2': ['N', 'E', 'V', 'E', 'R', 'G', 'I', 'V', 'E', 'U', 'P']})\n",
    "nparray = np.array([[0, 'C'], [1, 'O'], [2, 'D'], [3, 'E']])\n",
    "patable = pa.Table.from_pandas(dframe)\n",
    "dlist = [range(4), ['D', 'A', 'T', 'A']]\n",
    "ddict = {'x': range(6), 'y': ['P', 'Y', 'T', 'H', 'O', 'N']}\n",
    "dtup = [(0, 'L'), (1, 'E'), (2, 'A'), (3, 'R'), (4, 'N')]"
   ]
  },
  {
   "cell_type": "markdown",
   "id": "99527782",
   "metadata": {
    "id": "99527782",
    "papermill": {
     "duration": 0.033194,
     "end_time": "2021-07-13T06:14:51.442082",
     "exception": false,
     "start_time": "2021-07-13T06:14:51.408888",
     "status": "completed"
    },
    "tags": []
   },
   "source": [
    "**Exercise 11: Write `dframe` to a csv named `data1.csv`, to a compressed gz csv named `data.gz`**"
   ]
  },
  {
   "cell_type": "code",
   "execution_count": 19,
   "id": "35292732",
   "metadata": {
    "id": "35292732",
    "papermill": {
     "duration": 0.033376,
     "end_time": "2021-07-13T06:14:51.510057",
     "exception": false,
     "start_time": "2021-07-13T06:14:51.476681",
     "status": "completed"
    },
    "tags": []
   },
   "outputs": [],
   "source": [
    "dframe.to_csv('data1.csv')"
   ]
  },
  {
   "cell_type": "code",
   "execution_count": 18,
   "id": "d8e77b7f-b7e1-4193-8109-b0b2e3ea4128",
   "metadata": {},
   "outputs": [],
   "source": [
    "dframe.to_csv('data2.csv', compression='gzip')"
   ]
  },
  {
   "cell_type": "markdown",
   "id": "9c950057",
   "metadata": {
    "id": "9c950057",
    "papermill": {
     "duration": 0.032872,
     "end_time": "2021-07-13T06:14:51.577603",
     "exception": false,
     "start_time": "2021-07-13T06:14:51.544731",
     "status": "completed"
    },
    "tags": []
   },
   "source": [
    "**Exercise 12: Read `data1.csv` and assign it to `data_csv`, read `data.gz` and assign it to `data_gz`**"
   ]
  },
  {
   "cell_type": "code",
   "execution_count": 21,
   "id": "501fa96e",
   "metadata": {
    "id": "501fa96e",
    "papermill": {
     "duration": 0.034001,
     "end_time": "2021-07-13T06:14:51.646083",
     "exception": false,
     "start_time": "2021-07-13T06:14:51.612082",
     "status": "completed"
    },
    "tags": []
   },
   "outputs": [],
   "source": [
    "data_csv = pd.read_csv('data1.csv')"
   ]
  },
  {
   "cell_type": "code",
   "execution_count": 24,
   "id": "f178bd70",
   "metadata": {
    "id": "f178bd70",
    "papermill": {
     "duration": 0.034641,
     "end_time": "2021-07-13T06:14:51.714948",
     "exception": false,
     "start_time": "2021-07-13T06:14:51.680307",
     "status": "completed"
    },
    "tags": []
   },
   "outputs": [],
   "source": [
    "data_gz = pd.read_csv('data2.csv', compression='gzip')"
   ]
  },
  {
   "cell_type": "markdown",
   "id": "a046b10d",
   "metadata": {
    "id": "a046b10d",
    "papermill": {
     "duration": 0.033938,
     "end_time": "2021-07-13T06:14:51.851512",
     "exception": false,
     "start_time": "2021-07-13T06:14:51.817574",
     "status": "completed"
    },
    "tags": []
   },
   "source": [
    "**Exercise 13: Read data from this URL: [https://raw.githubusercontent.com/vopani/datatableton/main/data/datatableton_sample.csv](https://raw.githubusercontent.com/vopani/datatableton/main/data/datatableton_sample.csv) and assign it to `data_url`**"
   ]
  },
  {
   "cell_type": "code",
   "execution_count": 26,
   "id": "ea7d3ba6",
   "metadata": {
    "id": "ea7d3ba6",
    "papermill": {
     "duration": 0.03297,
     "end_time": "2021-07-13T06:14:51.917837",
     "exception": false,
     "start_time": "2021-07-13T06:14:51.884867",
     "status": "completed"
    },
    "tags": []
   },
   "outputs": [],
   "source": [
    "data_url = pd.read_csv(\"https://raw.githubusercontent.com/vopani/datatableton/main/data/datatableton_sample.csv\")"
   ]
  },
  {
   "cell_type": "markdown",
   "id": "eb2f2948",
   "metadata": {
    "id": "eb2f2948",
    "papermill": {
     "duration": 0.034549,
     "end_time": "2021-07-13T06:14:51.987099",
     "exception": false,
     "start_time": "2021-07-13T06:14:51.952550",
     "status": "completed"
    },
    "tags": []
   },
   "source": [
    "**Exercise 14: Read `users.csv` from `datatableton_sample.zip` and assign it to `data_zip`**"
   ]
  },
  {
   "cell_type": "code",
   "execution_count": 37,
   "id": "3f45d839",
   "metadata": {
    "id": "3f45d839",
    "papermill": {
     "duration": 0.033375,
     "end_time": "2021-07-13T06:14:52.054323",
     "exception": false,
     "start_time": "2021-07-13T06:14:52.020948",
     "status": "completed"
    },
    "tags": []
   },
   "outputs": [],
   "source": [
    "zip_file = ZipFile('datatableton_sample.zip')\n",
    "data_zip = pd.read_csv(zip_file.open('users.csv'))"
   ]
  },
  {
   "cell_type": "markdown",
   "id": "f6ede47b-7e6f-4afa-96b6-b64a15d9b1d8",
   "metadata": {},
   "source": [
    "**Exercise 15: Create a dt.Frame `data_pd` from the pd.DataFrame `dframe` and create a pd.DataFrame `pd_data` from the dt.Frame `data_pd`**"
   ]
  },
  {
   "cell_type": "code",
   "execution_count": null,
   "id": "7a8952b2-269e-45c1-bb80-294391753036",
   "metadata": {},
   "outputs": [],
   "source": []
  },
  {
   "cell_type": "code",
   "execution_count": null,
   "id": "9d606447-9133-402c-a2e7-a7ad59a92775",
   "metadata": {},
   "outputs": [],
   "source": []
  },
  {
   "cell_type": "markdown",
   "id": "953480b7",
   "metadata": {
    "id": "953480b7",
    "papermill": {
     "duration": 0.033579,
     "end_time": "2021-07-13T06:14:52.335992",
     "exception": false,
     "start_time": "2021-07-13T06:14:52.302413",
     "status": "completed"
    },
    "tags": []
   },
   "source": [
    "**Exercise 16: Create a pd.DataFrame `data_np` from the np.array `nparray` and create a np.array `np_data` from the pd.DataFrame `data_np`**"
   ]
  },
  {
   "cell_type": "code",
   "execution_count": null,
   "id": "e4689cd2",
   "metadata": {
    "execution": {
     "iopub.execute_input": "2021-07-10T03:59:29.570445Z",
     "iopub.status.busy": "2021-07-10T03:59:29.569695Z",
     "iopub.status.idle": "2021-07-10T03:59:29.574429Z",
     "shell.execute_reply": "2021-07-10T03:59:29.57386Z",
     "shell.execute_reply.started": "2021-07-07T05:26:15.290352Z"
    },
    "id": "e4689cd2",
    "papermill": {
     "duration": 0.033344,
     "end_time": "2021-07-13T06:14:52.403045",
     "exception": false,
     "start_time": "2021-07-13T06:14:52.369701",
     "status": "completed"
    },
    "tags": []
   },
   "outputs": [],
   "source": []
  },
  {
   "cell_type": "code",
   "execution_count": null,
   "id": "194b017c",
   "metadata": {
    "execution": {
     "iopub.execute_input": "2021-07-10T03:59:29.734711Z",
     "iopub.status.busy": "2021-07-10T03:59:29.734Z",
     "iopub.status.idle": "2021-07-10T03:59:29.73771Z",
     "shell.execute_reply": "2021-07-10T03:59:29.737139Z",
     "shell.execute_reply.started": "2021-07-07T05:26:18.103124Z"
    },
    "id": "194b017c",
    "papermill": {
     "duration": 0.033428,
     "end_time": "2021-07-13T06:14:52.470210",
     "exception": false,
     "start_time": "2021-07-13T06:14:52.436782",
     "status": "completed"
    },
    "tags": []
   },
   "outputs": [],
   "source": []
  },
  {
   "cell_type": "markdown",
   "id": "f379c2b6",
   "metadata": {
    "id": "f379c2b6",
    "papermill": {
     "duration": 0.033474,
     "end_time": "2021-07-13T06:14:52.537451",
     "exception": false,
     "start_time": "2021-07-13T06:14:52.503977",
     "status": "completed"
    },
    "tags": []
   },
   "source": [
    "**Exercise 17: Create a pd.DataFrame `data_ls` from the list `dlist` and create a list `ls_data` from the pd.DataFrame `data_ls`**"
   ]
  },
  {
   "cell_type": "code",
   "execution_count": null,
   "id": "31c86602",
   "metadata": {
    "execution": {
     "iopub.execute_input": "2021-07-10T03:59:30.045426Z",
     "iopub.status.busy": "2021-07-10T03:59:30.044652Z",
     "iopub.status.idle": "2021-07-10T03:59:30.049908Z",
     "shell.execute_reply": "2021-07-10T03:59:30.049357Z",
     "shell.execute_reply.started": "2021-07-07T05:27:16.069474Z"
    },
    "id": "31c86602",
    "papermill": {
     "duration": 0.03292,
     "end_time": "2021-07-13T06:14:52.603880",
     "exception": false,
     "start_time": "2021-07-13T06:14:52.570960",
     "status": "completed"
    },
    "tags": []
   },
   "outputs": [],
   "source": []
  },
  {
   "cell_type": "code",
   "execution_count": null,
   "id": "c6938c5e",
   "metadata": {
    "execution": {
     "iopub.execute_input": "2021-07-10T03:59:30.212313Z",
     "iopub.status.busy": "2021-07-10T03:59:30.211641Z",
     "iopub.status.idle": "2021-07-10T03:59:30.215267Z",
     "shell.execute_reply": "2021-07-10T03:59:30.214769Z",
     "shell.execute_reply.started": "2021-07-07T05:27:22.597448Z"
    },
    "id": "c6938c5e",
    "papermill": {
     "duration": 0.033088,
     "end_time": "2021-07-13T06:14:52.670815",
     "exception": false,
     "start_time": "2021-07-13T06:14:52.637727",
     "status": "completed"
    },
    "tags": []
   },
   "outputs": [],
   "source": []
  },
  {
   "cell_type": "markdown",
   "id": "239adf2b",
   "metadata": {
    "id": "239adf2b",
    "papermill": {
     "duration": 0.033084,
     "end_time": "2021-07-13T06:14:52.737400",
     "exception": false,
     "start_time": "2021-07-13T06:14:52.704316",
     "status": "completed"
    },
    "tags": []
   },
   "source": [
    "**Exercise 18: Create a pd.DataFrame `data_dc` from the dictionary `ddict` and create a dictionary `dc_data` from the pd.DataFrame `data_dc`**"
   ]
  },
  {
   "cell_type": "code",
   "execution_count": null,
   "id": "44dd19c8",
   "metadata": {
    "execution": {
     "iopub.execute_input": "2021-07-10T03:59:30.521739Z",
     "iopub.status.busy": "2021-07-10T03:59:30.521107Z",
     "iopub.status.idle": "2021-07-10T03:59:30.52463Z",
     "shell.execute_reply": "2021-07-10T03:59:30.524159Z",
     "shell.execute_reply.started": "2021-07-07T05:27:42.476661Z"
    },
    "id": "44dd19c8",
    "papermill": {
     "duration": 0.033773,
     "end_time": "2021-07-13T06:14:52.806364",
     "exception": false,
     "start_time": "2021-07-13T06:14:52.772591",
     "status": "completed"
    },
    "tags": []
   },
   "outputs": [],
   "source": []
  },
  {
   "cell_type": "code",
   "execution_count": null,
   "id": "3bfe534a",
   "metadata": {
    "execution": {
     "iopub.execute_input": "2021-07-10T03:59:30.684503Z",
     "iopub.status.busy": "2021-07-10T03:59:30.683878Z",
     "iopub.status.idle": "2021-07-10T03:59:30.688433Z",
     "shell.execute_reply": "2021-07-10T03:59:30.687941Z",
     "shell.execute_reply.started": "2021-07-07T05:27:52.810435Z"
    },
    "id": "3bfe534a",
    "papermill": {
     "duration": 0.03345,
     "end_time": "2021-07-13T06:14:52.873395",
     "exception": false,
     "start_time": "2021-07-13T06:14:52.839945",
     "status": "completed"
    },
    "tags": []
   },
   "outputs": [],
   "source": []
  },
  {
   "cell_type": "markdown",
   "id": "38984943",
   "metadata": {
    "id": "38984943",
    "papermill": {
     "duration": 0.033859,
     "end_time": "2021-07-13T06:14:52.943298",
     "exception": false,
     "start_time": "2021-07-13T06:14:52.909439",
     "status": "completed"
    },
    "tags": []
   },
   "source": [
    "**Exercise 19: Create a pd.DataFrame `data_tp` from the tuples `dtup` and create tuples `tp_data` from the pd.DataFrame `data_tp`**"
   ]
  },
  {
   "cell_type": "code",
   "execution_count": null,
   "id": "6136a2ff",
   "metadata": {
    "execution": {
     "iopub.execute_input": "2021-07-10T03:59:31.073893Z",
     "iopub.status.busy": "2021-07-10T03:59:31.073181Z",
     "iopub.status.idle": "2021-07-10T03:59:31.0757Z",
     "shell.execute_reply": "2021-07-10T03:59:31.076118Z",
     "shell.execute_reply.started": "2021-07-07T05:28:08.679901Z"
    },
    "id": "6136a2ff",
    "papermill": {
     "duration": 0.033457,
     "end_time": "2021-07-13T06:14:53.012463",
     "exception": false,
     "start_time": "2021-07-13T06:14:52.979006",
     "status": "completed"
    },
    "tags": []
   },
   "outputs": [],
   "source": []
  },
  {
   "cell_type": "code",
   "execution_count": null,
   "id": "e755f863",
   "metadata": {
    "execution": {
     "iopub.execute_input": "2021-07-10T03:59:31.238394Z",
     "iopub.status.busy": "2021-07-10T03:59:31.237885Z",
     "iopub.status.idle": "2021-07-10T03:59:31.242437Z",
     "shell.execute_reply": "2021-07-10T03:59:31.241967Z",
     "shell.execute_reply.started": "2021-07-07T05:28:14.754753Z"
    },
    "id": "e755f863",
    "papermill": {
     "duration": 0.033086,
     "end_time": "2021-07-13T06:14:53.079613",
     "exception": false,
     "start_time": "2021-07-13T06:14:53.046527",
     "status": "completed"
    },
    "tags": []
   },
   "outputs": [],
   "source": []
  },
  {
   "cell_type": "markdown",
   "id": "0d1cf088",
   "metadata": {
    "id": "0d1cf088",
    "papermill": {
     "duration": 0.033454,
     "end_time": "2021-07-13T06:14:53.147465",
     "exception": false,
     "start_time": "2021-07-13T06:14:53.114011",
     "status": "completed"
    },
    "tags": []
   },
   "source": [
    "**Exercise 20: Create a pd.DataFrame `data_pa` from the pyarrow.Table `patable` and create a pyarrow.Table `pa_data` from the pd.DataFrame `data_pa`**"
   ]
  },
  {
   "cell_type": "code",
   "execution_count": null,
   "id": "354490db",
   "metadata": {
    "execution": {
     "iopub.execute_input": "2021-07-10T03:59:31.552041Z",
     "iopub.status.busy": "2021-07-10T03:59:31.551542Z",
     "iopub.status.idle": "2021-07-10T03:59:31.559714Z",
     "shell.execute_reply": "2021-07-10T03:59:31.559033Z",
     "shell.execute_reply.started": "2021-07-07T05:28:31.79192Z"
    },
    "id": "354490db",
    "papermill": {
     "duration": 0.033331,
     "end_time": "2021-07-13T06:14:53.214968",
     "exception": false,
     "start_time": "2021-07-13T06:14:53.181637",
     "status": "completed"
    },
    "tags": []
   },
   "outputs": [],
   "source": []
  },
  {
   "cell_type": "code",
   "execution_count": null,
   "id": "e45ac22d",
   "metadata": {
    "execution": {
     "iopub.execute_input": "2021-07-10T03:59:31.78585Z",
     "iopub.status.busy": "2021-07-10T03:59:31.785192Z",
     "iopub.status.idle": "2021-07-10T03:59:31.788651Z",
     "shell.execute_reply": "2021-07-10T03:59:31.788036Z",
     "shell.execute_reply.started": "2021-07-07T05:28:37.932489Z"
    },
    "id": "e45ac22d",
    "papermill": {
     "duration": 0.032941,
     "end_time": "2021-07-13T06:14:53.281674",
     "exception": false,
     "start_time": "2021-07-13T06:14:53.248733",
     "status": "completed"
    },
    "tags": []
   },
   "outputs": [],
   "source": []
  },
  {
   "cell_type": "markdown",
   "id": "50dccf7c",
   "metadata": {
    "id": "50dccf7c",
    "papermill": {
     "duration": 0.032929,
     "end_time": "2021-07-13T06:14:53.349446",
     "exception": false,
     "start_time": "2021-07-13T06:14:53.316517",
     "status": "completed"
    },
    "tags": []
   },
   "source": [
    "✅ This completes Set 2: Files and Formats (Exercises 11-20)\n",
    "\n",
    "You can find all the exercises and solutions on [GitHub](https://github.com/Extremesarova/experiments/tree/main/pandas_exercises)"
   ]
  },
  {
   "cell_type": "code",
   "execution_count": null,
   "id": "2849277d-9829-467f-91df-85673e900722",
   "metadata": {},
   "outputs": [],
   "source": []
  }
 ],
 "metadata": {
  "colab": {
   "name": "02_files_and_formats_exercises.ipynb",
   "provenance": []
  },
  "kernelspec": {
   "display_name": "Python 3 (ipykernel)",
   "language": "python",
   "name": "python3"
  },
  "language_info": {
   "codemirror_mode": {
    "name": "ipython",
    "version": 3
   },
   "file_extension": ".py",
   "mimetype": "text/x-python",
   "name": "python",
   "nbconvert_exporter": "python",
   "pygments_lexer": "ipython3",
   "version": "3.8.10"
  },
  "papermill": {
   "default_parameters": {},
   "duration": 69.642344,
   "end_time": "2021-07-13T06:14:54.093505",
   "environment_variables": {},
   "exception": null,
   "input_path": "__notebook__.ipynb",
   "output_path": "__notebook__.ipynb",
   "parameters": {},
   "start_time": "2021-07-13T06:13:44.451161",
   "version": "2.3.3"
  }
 },
 "nbformat": 4,
 "nbformat_minor": 5
}
