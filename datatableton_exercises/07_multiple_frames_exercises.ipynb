{
 "cells": [
  {
   "cell_type": "markdown",
   "id": "681f728b",
   "metadata": {
    "id": "681f728b",
    "papermill": {
     "duration": 0.015355,
     "end_time": "2021-07-25T04:17:50.272966",
     "exception": false,
     "start_time": "2021-07-25T04:17:50.257611",
     "status": "completed"
    },
    "tags": []
   },
   "source": [
    "<center>\n",
    "    This is Set 7: Multiple Frames (Exercises 61-70)\n",
    "</center>"
   ]
  },
  {
   "cell_type": "markdown",
   "id": "cbfbde9c",
   "metadata": {
    "id": "cbfbde9c",
    "papermill": {
     "duration": 0.015391,
     "end_time": "2021-07-25T04:17:50.305646",
     "exception": false,
     "start_time": "2021-07-25T04:17:50.290255",
     "status": "completed"
    },
    "tags": []
   },
   "source": [
    "**Prerequisites**\n",
    "* The sample dataset [datatableton_sample.zip](https://github.com/vopani/datatableton/blob/main/data/datatableton_sample.zip) will be used for the exercises."
   ]
  },
  {
   "cell_type": "code",
   "execution_count": 1,
   "id": "90672194",
   "metadata": {
    "id": "90672194",
    "outputId": "654f1547-235a-4f36-9102-7d1e0bcf9921",
    "papermill": {
     "duration": 0.207763,
     "end_time": "2021-07-25T04:18:21.957944",
     "exception": false,
     "start_time": "2021-07-25T04:18:21.750181",
     "status": "completed"
    },
    "tags": []
   },
   "outputs": [],
   "source": [
    "import pandas as pd\n",
    "from zipfile import ZipFile\n",
    "import numpy as np"
   ]
  },
  {
   "cell_type": "markdown",
   "id": "52406c94",
   "metadata": {
    "id": "52406c94",
    "papermill": {
     "duration": 0.01969,
     "end_time": "2021-07-25T04:18:21.997796",
     "exception": false,
     "start_time": "2021-07-25T04:18:21.978106",
     "status": "completed"
    },
    "tags": []
   },
   "source": [
    "**Exercise 61: Read all the files together from `datatableton_sample.zip`, assign the list of frames to `data` and print the name of each file**"
   ]
  },
  {
   "cell_type": "code",
   "execution_count": 2,
   "id": "3066fa49",
   "metadata": {
    "id": "3066fa49",
    "papermill": {
     "duration": 0.019965,
     "end_time": "2021-07-25T04:18:22.037770",
     "exception": false,
     "start_time": "2021-07-25T04:18:22.017805",
     "status": "completed"
    },
    "tags": []
   },
   "outputs": [
    {
     "name": "stdout",
     "output_type": "stream",
     "text": [
      "orders_feb.csv\n",
      "orders_jan.csv\n",
      "orders_mar.csv\n",
      "returns.csv\n",
      "users.csv\n"
     ]
    }
   ],
   "source": [
    "zip_file = ZipFile('datatableton_sample.zip')\n",
    "data = []\n",
    "for file in zip_file.filelist:\n",
    "    if 'MACOS' not in file.filename:\n",
    "        print(file.filename)\n",
    "        data.append(pd.read_csv(zip_file.open(file.filename)))"
   ]
  },
  {
   "cell_type": "markdown",
   "id": "5ba87bd7",
   "metadata": {
    "id": "5ba87bd7",
    "papermill": {
     "duration": 0.020618,
     "end_time": "2021-07-25T04:18:22.078592",
     "exception": false,
     "start_time": "2021-07-25T04:18:22.057974",
     "status": "completed"
    },
    "tags": []
   },
   "source": [
    "**Exercise 62: Assign the frames `orders_jan.csv`, `orders_feb.csv`, `orders_mar.csv`, `returns.csv` and `users.csv` in `data` to individual frames `orders_jan`, `orders_feb`, `orders_mar`, `returns` and `users` respectively and display the head of each frame**"
   ]
  },
  {
   "cell_type": "code",
   "execution_count": 3,
   "id": "484a3ac7",
   "metadata": {
    "id": "484a3ac7",
    "papermill": {
     "duration": 0.019664,
     "end_time": "2021-07-25T04:18:22.118002",
     "exception": false,
     "start_time": "2021-07-25T04:18:22.098338",
     "status": "completed"
    },
    "tags": []
   },
   "outputs": [],
   "source": [
    "orders_feb, orders_jan, orders_mar, returns, users = data"
   ]
  },
  {
   "cell_type": "code",
   "execution_count": 4,
   "id": "dfe08e70",
   "metadata": {
    "id": "dfe08e70",
    "papermill": {
     "duration": 0.019679,
     "end_time": "2021-07-25T04:18:22.157576",
     "exception": false,
     "start_time": "2021-07-25T04:18:22.137897",
     "status": "completed"
    },
    "tags": []
   },
   "outputs": [
    {
     "data": {
      "text/html": [
       "<div>\n",
       "<style scoped>\n",
       "    .dataframe tbody tr th:only-of-type {\n",
       "        vertical-align: middle;\n",
       "    }\n",
       "\n",
       "    .dataframe tbody tr th {\n",
       "        vertical-align: top;\n",
       "    }\n",
       "\n",
       "    .dataframe thead th {\n",
       "        text-align: right;\n",
       "    }\n",
       "</style>\n",
       "<table border=\"1\" class=\"dataframe\">\n",
       "  <thead>\n",
       "    <tr style=\"text-align: right;\">\n",
       "      <th></th>\n",
       "      <th>Order ID</th>\n",
       "      <th>Category</th>\n",
       "      <th>Category ID</th>\n",
       "      <th>Sales</th>\n",
       "      <th>Quantity</th>\n",
       "      <th>Discount</th>\n",
       "      <th>Month</th>\n",
       "    </tr>\n",
       "  </thead>\n",
       "  <tbody>\n",
       "    <tr>\n",
       "      <th>0</th>\n",
       "      <td>1.1</td>\n",
       "      <td>Apparels</td>\n",
       "      <td>1001</td>\n",
       "      <td>89.00</td>\n",
       "      <td>2</td>\n",
       "      <td>0.2</td>\n",
       "      <td>Jan</td>\n",
       "    </tr>\n",
       "    <tr>\n",
       "      <th>1</th>\n",
       "      <td>1.2</td>\n",
       "      <td>Electronics</td>\n",
       "      <td>1003</td>\n",
       "      <td>65.00</td>\n",
       "      <td>87</td>\n",
       "      <td>0.2</td>\n",
       "      <td>Jan</td>\n",
       "    </tr>\n",
       "    <tr>\n",
       "      <th>2</th>\n",
       "      <td>1.3</td>\n",
       "      <td>Cosmetics</td>\n",
       "      <td>1002</td>\n",
       "      <td>272.74</td>\n",
       "      <td>3</td>\n",
       "      <td>0.2</td>\n",
       "      <td>Jan</td>\n",
       "    </tr>\n",
       "    <tr>\n",
       "      <th>3</th>\n",
       "      <td>1.4</td>\n",
       "      <td>Apparels</td>\n",
       "      <td>1001</td>\n",
       "      <td>3.54</td>\n",
       "      <td>2</td>\n",
       "      <td>0.8</td>\n",
       "      <td>Jan</td>\n",
       "    </tr>\n",
       "    <tr>\n",
       "      <th>4</th>\n",
       "      <td>1.5</td>\n",
       "      <td>Cosmetics</td>\n",
       "      <td>1002</td>\n",
       "      <td>19.54</td>\n",
       "      <td>3</td>\n",
       "      <td>0.2</td>\n",
       "      <td>Jan</td>\n",
       "    </tr>\n",
       "  </tbody>\n",
       "</table>\n",
       "</div>"
      ],
      "text/plain": [
       "   Order ID     Category  Category ID   Sales  Quantity  Discount Month\n",
       "0       1.1     Apparels         1001   89.00         2       0.2   Jan\n",
       "1       1.2  Electronics         1003   65.00        87       0.2   Jan\n",
       "2       1.3    Cosmetics         1002  272.74         3       0.2   Jan\n",
       "3       1.4     Apparels         1001    3.54         2       0.8   Jan\n",
       "4       1.5    Cosmetics         1002   19.54         3       0.2   Jan"
      ]
     },
     "execution_count": 4,
     "metadata": {},
     "output_type": "execute_result"
    }
   ],
   "source": [
    "orders_jan.head()"
   ]
  },
  {
   "cell_type": "code",
   "execution_count": 5,
   "id": "2da6dbec",
   "metadata": {
    "id": "2da6dbec",
    "papermill": {
     "duration": 0.019396,
     "end_time": "2021-07-25T04:18:22.196803",
     "exception": false,
     "start_time": "2021-07-25T04:18:22.177407",
     "status": "completed"
    },
    "tags": []
   },
   "outputs": [
    {
     "data": {
      "text/html": [
       "<div>\n",
       "<style scoped>\n",
       "    .dataframe tbody tr th:only-of-type {\n",
       "        vertical-align: middle;\n",
       "    }\n",
       "\n",
       "    .dataframe tbody tr th {\n",
       "        vertical-align: top;\n",
       "    }\n",
       "\n",
       "    .dataframe thead th {\n",
       "        text-align: right;\n",
       "    }\n",
       "</style>\n",
       "<table border=\"1\" class=\"dataframe\">\n",
       "  <thead>\n",
       "    <tr style=\"text-align: right;\">\n",
       "      <th></th>\n",
       "      <th>Order ID</th>\n",
       "      <th>Category</th>\n",
       "      <th>Category ID</th>\n",
       "      <th>Sales</th>\n",
       "      <th>Quantity</th>\n",
       "      <th>Discount</th>\n",
       "      <th>Month</th>\n",
       "    </tr>\n",
       "  </thead>\n",
       "  <tbody>\n",
       "    <tr>\n",
       "      <th>0</th>\n",
       "      <td>2.1</td>\n",
       "      <td>Flowers</td>\n",
       "      <td>1004</td>\n",
       "      <td>75</td>\n",
       "      <td>15</td>\n",
       "      <td>0.2</td>\n",
       "      <td>Feb</td>\n",
       "    </tr>\n",
       "    <tr>\n",
       "      <th>1</th>\n",
       "      <td>2.2</td>\n",
       "      <td>International Cuisine</td>\n",
       "      <td>1005</td>\n",
       "      <td>65</td>\n",
       "      <td>23</td>\n",
       "      <td>0.2</td>\n",
       "      <td>Feb</td>\n",
       "    </tr>\n",
       "    <tr>\n",
       "      <th>2</th>\n",
       "      <td>2.3</td>\n",
       "      <td>Paper Products</td>\n",
       "      <td>1006</td>\n",
       "      <td>115</td>\n",
       "      <td>100</td>\n",
       "      <td>0.8</td>\n",
       "      <td>Feb</td>\n",
       "    </tr>\n",
       "    <tr>\n",
       "      <th>3</th>\n",
       "      <td>2.4</td>\n",
       "      <td>Gift cards</td>\n",
       "      <td>1005</td>\n",
       "      <td>236</td>\n",
       "      <td>565</td>\n",
       "      <td>0.2</td>\n",
       "      <td>Feb</td>\n",
       "    </tr>\n",
       "    <tr>\n",
       "      <th>4</th>\n",
       "      <td>2.5</td>\n",
       "      <td>Pet Care</td>\n",
       "      <td>1007</td>\n",
       "      <td>78</td>\n",
       "      <td>8</td>\n",
       "      <td>0.0</td>\n",
       "      <td>Feb</td>\n",
       "    </tr>\n",
       "  </tbody>\n",
       "</table>\n",
       "</div>"
      ],
      "text/plain": [
       "   Order ID               Category  Category ID  Sales  Quantity  Discount  \\\n",
       "0       2.1                Flowers         1004     75        15       0.2   \n",
       "1       2.2  International Cuisine         1005     65        23       0.2   \n",
       "2       2.3        Paper Products          1006    115       100       0.8   \n",
       "3       2.4             Gift cards         1005    236       565       0.2   \n",
       "4       2.5               Pet Care         1007     78         8       0.0   \n",
       "\n",
       "  Month  \n",
       "0   Feb  \n",
       "1   Feb  \n",
       "2   Feb  \n",
       "3   Feb  \n",
       "4   Feb  "
      ]
     },
     "execution_count": 5,
     "metadata": {},
     "output_type": "execute_result"
    }
   ],
   "source": [
    "orders_feb.head()"
   ]
  },
  {
   "cell_type": "code",
   "execution_count": 6,
   "id": "a159edfe",
   "metadata": {
    "id": "a159edfe",
    "papermill": {
     "duration": 0.019611,
     "end_time": "2021-07-25T04:18:22.236402",
     "exception": false,
     "start_time": "2021-07-25T04:18:22.216791",
     "status": "completed"
    },
    "tags": []
   },
   "outputs": [
    {
     "data": {
      "text/html": [
       "<div>\n",
       "<style scoped>\n",
       "    .dataframe tbody tr th:only-of-type {\n",
       "        vertical-align: middle;\n",
       "    }\n",
       "\n",
       "    .dataframe tbody tr th {\n",
       "        vertical-align: top;\n",
       "    }\n",
       "\n",
       "    .dataframe thead th {\n",
       "        text-align: right;\n",
       "    }\n",
       "</style>\n",
       "<table border=\"1\" class=\"dataframe\">\n",
       "  <thead>\n",
       "    <tr style=\"text-align: right;\">\n",
       "      <th></th>\n",
       "      <th>Order ID</th>\n",
       "      <th>Category</th>\n",
       "      <th>Category ID</th>\n",
       "      <th>Sales</th>\n",
       "      <th>Quantity</th>\n",
       "      <th>Discount</th>\n",
       "      <th>Month</th>\n",
       "    </tr>\n",
       "  </thead>\n",
       "  <tbody>\n",
       "    <tr>\n",
       "      <th>0</th>\n",
       "      <td>3.1</td>\n",
       "      <td>Flowers</td>\n",
       "      <td>1004</td>\n",
       "      <td>32.0</td>\n",
       "      <td>45</td>\n",
       "      <td>0.3</td>\n",
       "      <td>March</td>\n",
       "    </tr>\n",
       "    <tr>\n",
       "      <th>1</th>\n",
       "      <td>3.2</td>\n",
       "      <td>International Cuisine</td>\n",
       "      <td>1005</td>\n",
       "      <td>160.0</td>\n",
       "      <td>4</td>\n",
       "      <td>0.2</td>\n",
       "      <td>March</td>\n",
       "    </tr>\n",
       "    <tr>\n",
       "      <th>2</th>\n",
       "      <td>3.3</td>\n",
       "      <td>Pet Care</td>\n",
       "      <td>1009</td>\n",
       "      <td>130.0</td>\n",
       "      <td>89</td>\n",
       "      <td>0.3</td>\n",
       "      <td>March</td>\n",
       "    </tr>\n",
       "    <tr>\n",
       "      <th>3</th>\n",
       "      <td>3.4</td>\n",
       "      <td>International Cuisine</td>\n",
       "      <td>1005</td>\n",
       "      <td>3.5</td>\n",
       "      <td>12</td>\n",
       "      <td>0.9</td>\n",
       "      <td>March</td>\n",
       "    </tr>\n",
       "    <tr>\n",
       "      <th>4</th>\n",
       "      <td>3.5</td>\n",
       "      <td>Paper Products</td>\n",
       "      <td>1006</td>\n",
       "      <td>35.0</td>\n",
       "      <td>4</td>\n",
       "      <td>0.2</td>\n",
       "      <td>March</td>\n",
       "    </tr>\n",
       "  </tbody>\n",
       "</table>\n",
       "</div>"
      ],
      "text/plain": [
       "   Order ID               Category  Category ID  Sales  Quantity  Discount  \\\n",
       "0       3.1                Flowers         1004   32.0        45       0.3   \n",
       "1       3.2  International Cuisine         1005  160.0         4       0.2   \n",
       "2       3.3               Pet Care         1009  130.0        89       0.3   \n",
       "3       3.4  International Cuisine         1005    3.5        12       0.9   \n",
       "4       3.5        Paper Products          1006   35.0         4       0.2   \n",
       "\n",
       "   Month  \n",
       "0  March  \n",
       "1  March  \n",
       "2  March  \n",
       "3  March  \n",
       "4  March  "
      ]
     },
     "execution_count": 6,
     "metadata": {},
     "output_type": "execute_result"
    }
   ],
   "source": [
    "orders_mar.head()"
   ]
  },
  {
   "cell_type": "code",
   "execution_count": 7,
   "id": "6cc6fb6d",
   "metadata": {
    "id": "6cc6fb6d",
    "papermill": {
     "duration": 0.019613,
     "end_time": "2021-07-25T04:18:22.276102",
     "exception": false,
     "start_time": "2021-07-25T04:18:22.256489",
     "status": "completed"
    },
    "tags": []
   },
   "outputs": [
    {
     "data": {
      "text/html": [
       "<div>\n",
       "<style scoped>\n",
       "    .dataframe tbody tr th:only-of-type {\n",
       "        vertical-align: middle;\n",
       "    }\n",
       "\n",
       "    .dataframe tbody tr th {\n",
       "        vertical-align: top;\n",
       "    }\n",
       "\n",
       "    .dataframe thead th {\n",
       "        text-align: right;\n",
       "    }\n",
       "</style>\n",
       "<table border=\"1\" class=\"dataframe\">\n",
       "  <thead>\n",
       "    <tr style=\"text-align: right;\">\n",
       "      <th></th>\n",
       "      <th>Number of Records</th>\n",
       "      <th>Order ID</th>\n",
       "      <th>Updated Order Returns</th>\n",
       "      <th>Return ID</th>\n",
       "    </tr>\n",
       "  </thead>\n",
       "  <tbody>\n",
       "    <tr>\n",
       "      <th>0</th>\n",
       "      <td>1</td>\n",
       "      <td>1.1</td>\n",
       "      <td>Inaccurate</td>\n",
       "      <td>R001</td>\n",
       "    </tr>\n",
       "    <tr>\n",
       "      <th>1</th>\n",
       "      <td>10</td>\n",
       "      <td>1.2</td>\n",
       "      <td>Late Delivery</td>\n",
       "      <td>R002</td>\n",
       "    </tr>\n",
       "    <tr>\n",
       "      <th>2</th>\n",
       "      <td>1</td>\n",
       "      <td>1.3</td>\n",
       "      <td>Product Damaged</td>\n",
       "      <td>R003</td>\n",
       "    </tr>\n",
       "    <tr>\n",
       "      <th>3</th>\n",
       "      <td>1</td>\n",
       "      <td>1.4</td>\n",
       "      <td>Incorrect Products Delivered</td>\n",
       "      <td>R004</td>\n",
       "    </tr>\n",
       "    <tr>\n",
       "      <th>4</th>\n",
       "      <td>8</td>\n",
       "      <td>1.5</td>\n",
       "      <td>Description Inaccurate</td>\n",
       "      <td>R005</td>\n",
       "    </tr>\n",
       "  </tbody>\n",
       "</table>\n",
       "</div>"
      ],
      "text/plain": [
       "   Number of Records  Order ID         Updated Order Returns Return ID\n",
       "0                  1       1.1                    Inaccurate      R001\n",
       "1                 10       1.2                 Late Delivery      R002\n",
       "2                  1       1.3               Product Damaged      R003\n",
       "3                  1       1.4  Incorrect Products Delivered      R004\n",
       "4                  8       1.5        Description Inaccurate      R005"
      ]
     },
     "execution_count": 7,
     "metadata": {},
     "output_type": "execute_result"
    }
   ],
   "source": [
    "returns.head()"
   ]
  },
  {
   "cell_type": "code",
   "execution_count": 8,
   "id": "ee6a2e2a-4e7a-4f45-bc7e-496c74d59710",
   "metadata": {},
   "outputs": [
    {
     "data": {
      "text/html": [
       "<div>\n",
       "<style scoped>\n",
       "    .dataframe tbody tr th:only-of-type {\n",
       "        vertical-align: middle;\n",
       "    }\n",
       "\n",
       "    .dataframe tbody tr th {\n",
       "        vertical-align: top;\n",
       "    }\n",
       "\n",
       "    .dataframe thead th {\n",
       "        text-align: right;\n",
       "    }\n",
       "</style>\n",
       "<table border=\"1\" class=\"dataframe\">\n",
       "  <thead>\n",
       "    <tr style=\"text-align: right;\">\n",
       "      <th></th>\n",
       "      <th>Person</th>\n",
       "      <th>Category ID</th>\n",
       "      <th>Return ID</th>\n",
       "      <th>Region</th>\n",
       "    </tr>\n",
       "  </thead>\n",
       "  <tbody>\n",
       "    <tr>\n",
       "      <th>0</th>\n",
       "      <td>Amy</td>\n",
       "      <td>1001</td>\n",
       "      <td>R004</td>\n",
       "      <td>West</td>\n",
       "    </tr>\n",
       "    <tr>\n",
       "      <th>1</th>\n",
       "      <td>Max</td>\n",
       "      <td>1002</td>\n",
       "      <td>R001</td>\n",
       "      <td>East</td>\n",
       "    </tr>\n",
       "    <tr>\n",
       "      <th>2</th>\n",
       "      <td>William</td>\n",
       "      <td>1007</td>\n",
       "      <td>R003</td>\n",
       "      <td>Central</td>\n",
       "    </tr>\n",
       "    <tr>\n",
       "      <th>3</th>\n",
       "      <td>Nancy</td>\n",
       "      <td>1004</td>\n",
       "      <td>R006</td>\n",
       "      <td>South</td>\n",
       "    </tr>\n",
       "    <tr>\n",
       "      <th>4</th>\n",
       "      <td>Isabella</td>\n",
       "      <td>1001</td>\n",
       "      <td>R006</td>\n",
       "      <td>West</td>\n",
       "    </tr>\n",
       "  </tbody>\n",
       "</table>\n",
       "</div>"
      ],
      "text/plain": [
       "     Person  Category ID Return ID   Region\n",
       "0       Amy         1001      R004     West\n",
       "1       Max         1002      R001     East\n",
       "2   William         1007      R003  Central\n",
       "3     Nancy         1004      R006    South\n",
       "4  Isabella         1001      R006     West"
      ]
     },
     "execution_count": 8,
     "metadata": {},
     "output_type": "execute_result"
    }
   ],
   "source": [
    "users.head()"
   ]
  },
  {
   "cell_type": "markdown",
   "id": "2a9bf2ec",
   "metadata": {
    "id": "2a9bf2ec",
    "papermill": {
     "duration": 0.019877,
     "end_time": "2021-07-25T04:18:22.315676",
     "exception": false,
     "start_time": "2021-07-25T04:18:22.295799",
     "status": "completed"
    },
    "tags": []
   },
   "source": [
    "**Exercise 63: Append all rows of `orders_jan`, `orders_feb` and `orders_mar` into a single frame and assign it to `orders_all`**"
   ]
  },
  {
   "cell_type": "code",
   "execution_count": 9,
   "id": "5700df40",
   "metadata": {
    "id": "5700df40",
    "papermill": {
     "duration": 0.019408,
     "end_time": "2021-07-25T04:18:22.354638",
     "exception": false,
     "start_time": "2021-07-25T04:18:22.335230",
     "status": "completed"
    },
    "tags": []
   },
   "outputs": [
    {
     "data": {
      "text/html": [
       "<div>\n",
       "<style scoped>\n",
       "    .dataframe tbody tr th:only-of-type {\n",
       "        vertical-align: middle;\n",
       "    }\n",
       "\n",
       "    .dataframe tbody tr th {\n",
       "        vertical-align: top;\n",
       "    }\n",
       "\n",
       "    .dataframe thead th {\n",
       "        text-align: right;\n",
       "    }\n",
       "</style>\n",
       "<table border=\"1\" class=\"dataframe\">\n",
       "  <thead>\n",
       "    <tr style=\"text-align: right;\">\n",
       "      <th></th>\n",
       "      <th>Order ID</th>\n",
       "      <th>Category</th>\n",
       "      <th>Category ID</th>\n",
       "      <th>Sales</th>\n",
       "      <th>Quantity</th>\n",
       "      <th>Discount</th>\n",
       "      <th>Month</th>\n",
       "    </tr>\n",
       "  </thead>\n",
       "  <tbody>\n",
       "    <tr>\n",
       "      <th>0</th>\n",
       "      <td>1.1</td>\n",
       "      <td>Apparels</td>\n",
       "      <td>1001</td>\n",
       "      <td>89.00</td>\n",
       "      <td>2</td>\n",
       "      <td>0.2</td>\n",
       "      <td>Jan</td>\n",
       "    </tr>\n",
       "    <tr>\n",
       "      <th>1</th>\n",
       "      <td>1.2</td>\n",
       "      <td>Electronics</td>\n",
       "      <td>1003</td>\n",
       "      <td>65.00</td>\n",
       "      <td>87</td>\n",
       "      <td>0.2</td>\n",
       "      <td>Jan</td>\n",
       "    </tr>\n",
       "    <tr>\n",
       "      <th>2</th>\n",
       "      <td>1.3</td>\n",
       "      <td>Cosmetics</td>\n",
       "      <td>1002</td>\n",
       "      <td>272.74</td>\n",
       "      <td>3</td>\n",
       "      <td>0.2</td>\n",
       "      <td>Jan</td>\n",
       "    </tr>\n",
       "    <tr>\n",
       "      <th>3</th>\n",
       "      <td>1.4</td>\n",
       "      <td>Apparels</td>\n",
       "      <td>1001</td>\n",
       "      <td>3.54</td>\n",
       "      <td>2</td>\n",
       "      <td>0.8</td>\n",
       "      <td>Jan</td>\n",
       "    </tr>\n",
       "    <tr>\n",
       "      <th>4</th>\n",
       "      <td>1.5</td>\n",
       "      <td>Cosmetics</td>\n",
       "      <td>1002</td>\n",
       "      <td>19.54</td>\n",
       "      <td>3</td>\n",
       "      <td>0.2</td>\n",
       "      <td>Jan</td>\n",
       "    </tr>\n",
       "    <tr>\n",
       "      <th>5</th>\n",
       "      <td>1.6</td>\n",
       "      <td>Electronics</td>\n",
       "      <td>1003</td>\n",
       "      <td>19.44</td>\n",
       "      <td>3</td>\n",
       "      <td>0.0</td>\n",
       "      <td>Jan</td>\n",
       "    </tr>\n",
       "    <tr>\n",
       "      <th>6</th>\n",
       "      <td>1.7</td>\n",
       "      <td>Apparels</td>\n",
       "      <td>1001</td>\n",
       "      <td>12.78</td>\n",
       "      <td>3</td>\n",
       "      <td>0.0</td>\n",
       "      <td>Jan</td>\n",
       "    </tr>\n",
       "    <tr>\n",
       "      <th>7</th>\n",
       "      <td>1.8</td>\n",
       "      <td>Apparels</td>\n",
       "      <td>1001</td>\n",
       "      <td>2573.82</td>\n",
       "      <td>9</td>\n",
       "      <td>0.0</td>\n",
       "      <td>Jan</td>\n",
       "    </tr>\n",
       "    <tr>\n",
       "      <th>8</th>\n",
       "      <td>1.9</td>\n",
       "      <td>Apparels</td>\n",
       "      <td>1001</td>\n",
       "      <td>300.00</td>\n",
       "      <td>10</td>\n",
       "      <td>0.5</td>\n",
       "      <td>Jan</td>\n",
       "    </tr>\n",
       "    <tr>\n",
       "      <th>0</th>\n",
       "      <td>2.1</td>\n",
       "      <td>Flowers</td>\n",
       "      <td>1004</td>\n",
       "      <td>75.00</td>\n",
       "      <td>15</td>\n",
       "      <td>0.2</td>\n",
       "      <td>Feb</td>\n",
       "    </tr>\n",
       "  </tbody>\n",
       "</table>\n",
       "</div>"
      ],
      "text/plain": [
       "   Order ID     Category  Category ID    Sales  Quantity  Discount Month\n",
       "0       1.1     Apparels         1001    89.00         2       0.2   Jan\n",
       "1       1.2  Electronics         1003    65.00        87       0.2   Jan\n",
       "2       1.3    Cosmetics         1002   272.74         3       0.2   Jan\n",
       "3       1.4     Apparels         1001     3.54         2       0.8   Jan\n",
       "4       1.5    Cosmetics         1002    19.54         3       0.2   Jan\n",
       "5       1.6  Electronics         1003    19.44         3       0.0   Jan\n",
       "6       1.7     Apparels         1001    12.78         3       0.0   Jan\n",
       "7       1.8     Apparels         1001  2573.82         9       0.0   Jan\n",
       "8       1.9     Apparels         1001   300.00        10       0.5   Jan\n",
       "0       2.1      Flowers         1004    75.00        15       0.2   Feb"
      ]
     },
     "execution_count": 9,
     "metadata": {},
     "output_type": "execute_result"
    }
   ],
   "source": [
    "orders_all = pd.concat([orders_jan, orders_feb, orders_mar])\n",
    "orders_all.head(10)"
   ]
  },
  {
   "cell_type": "markdown",
   "id": "43cf98d4",
   "metadata": {
    "id": "43cf98d4",
    "papermill": {
     "duration": 0.019438,
     "end_time": "2021-07-25T04:18:22.393898",
     "exception": false,
     "start_time": "2021-07-25T04:18:22.374460",
     "status": "completed"
    },
    "tags": []
   },
   "source": [
    "**Exercise 64: Join `orders_all` to `returns` on `Order ID` and assign it to `sales`**"
   ]
  },
  {
   "cell_type": "code",
   "execution_count": 10,
   "id": "dbccb6c5",
   "metadata": {
    "id": "dbccb6c5",
    "papermill": {
     "duration": 0.019617,
     "end_time": "2021-07-25T04:18:22.433235",
     "exception": false,
     "start_time": "2021-07-25T04:18:22.413618",
     "status": "completed"
    },
    "tags": []
   },
   "outputs": [
    {
     "data": {
      "text/html": [
       "<div>\n",
       "<style scoped>\n",
       "    .dataframe tbody tr th:only-of-type {\n",
       "        vertical-align: middle;\n",
       "    }\n",
       "\n",
       "    .dataframe tbody tr th {\n",
       "        vertical-align: top;\n",
       "    }\n",
       "\n",
       "    .dataframe thead th {\n",
       "        text-align: right;\n",
       "    }\n",
       "</style>\n",
       "<table border=\"1\" class=\"dataframe\">\n",
       "  <thead>\n",
       "    <tr style=\"text-align: right;\">\n",
       "      <th></th>\n",
       "      <th>Number of Records</th>\n",
       "      <th>Order ID</th>\n",
       "      <th>Updated Order Returns</th>\n",
       "      <th>Return ID</th>\n",
       "      <th>Category</th>\n",
       "      <th>Category ID</th>\n",
       "      <th>Sales</th>\n",
       "      <th>Quantity</th>\n",
       "      <th>Discount</th>\n",
       "      <th>Month</th>\n",
       "    </tr>\n",
       "  </thead>\n",
       "  <tbody>\n",
       "    <tr>\n",
       "      <th>0</th>\n",
       "      <td>1</td>\n",
       "      <td>1.1</td>\n",
       "      <td>Inaccurate</td>\n",
       "      <td>R001</td>\n",
       "      <td>Apparels</td>\n",
       "      <td>1001</td>\n",
       "      <td>89.00</td>\n",
       "      <td>2</td>\n",
       "      <td>0.2</td>\n",
       "      <td>Jan</td>\n",
       "    </tr>\n",
       "    <tr>\n",
       "      <th>1</th>\n",
       "      <td>10</td>\n",
       "      <td>1.2</td>\n",
       "      <td>Late Delivery</td>\n",
       "      <td>R002</td>\n",
       "      <td>Electronics</td>\n",
       "      <td>1003</td>\n",
       "      <td>65.00</td>\n",
       "      <td>87</td>\n",
       "      <td>0.2</td>\n",
       "      <td>Jan</td>\n",
       "    </tr>\n",
       "    <tr>\n",
       "      <th>2</th>\n",
       "      <td>1</td>\n",
       "      <td>1.3</td>\n",
       "      <td>Product Damaged</td>\n",
       "      <td>R003</td>\n",
       "      <td>Cosmetics</td>\n",
       "      <td>1002</td>\n",
       "      <td>272.74</td>\n",
       "      <td>3</td>\n",
       "      <td>0.2</td>\n",
       "      <td>Jan</td>\n",
       "    </tr>\n",
       "    <tr>\n",
       "      <th>3</th>\n",
       "      <td>1</td>\n",
       "      <td>1.4</td>\n",
       "      <td>Incorrect Products Delivered</td>\n",
       "      <td>R004</td>\n",
       "      <td>Apparels</td>\n",
       "      <td>1001</td>\n",
       "      <td>3.54</td>\n",
       "      <td>2</td>\n",
       "      <td>0.8</td>\n",
       "      <td>Jan</td>\n",
       "    </tr>\n",
       "    <tr>\n",
       "      <th>4</th>\n",
       "      <td>8</td>\n",
       "      <td>1.5</td>\n",
       "      <td>Description Inaccurate</td>\n",
       "      <td>R005</td>\n",
       "      <td>Cosmetics</td>\n",
       "      <td>1002</td>\n",
       "      <td>19.54</td>\n",
       "      <td>3</td>\n",
       "      <td>0.2</td>\n",
       "      <td>Jan</td>\n",
       "    </tr>\n",
       "  </tbody>\n",
       "</table>\n",
       "</div>"
      ],
      "text/plain": [
       "   Number of Records  Order ID         Updated Order Returns Return ID  \\\n",
       "0                  1       1.1                    Inaccurate      R001   \n",
       "1                 10       1.2                 Late Delivery      R002   \n",
       "2                  1       1.3               Product Damaged      R003   \n",
       "3                  1       1.4  Incorrect Products Delivered      R004   \n",
       "4                  8       1.5        Description Inaccurate      R005   \n",
       "\n",
       "      Category  Category ID   Sales  Quantity  Discount Month  \n",
       "0     Apparels         1001   89.00         2       0.2   Jan  \n",
       "1  Electronics         1003   65.00        87       0.2   Jan  \n",
       "2    Cosmetics         1002  272.74         3       0.2   Jan  \n",
       "3     Apparels         1001    3.54         2       0.8   Jan  \n",
       "4    Cosmetics         1002   19.54         3       0.2   Jan  "
      ]
     },
     "execution_count": 10,
     "metadata": {},
     "output_type": "execute_result"
    }
   ],
   "source": [
    "sales = returns.merge(orders_all, on='Order ID')\n",
    "sales.head()"
   ]
  },
  {
   "cell_type": "markdown",
   "id": "8df0ed57",
   "metadata": {
    "id": "8df0ed57",
    "papermill": {
     "duration": 0.019762,
     "end_time": "2021-07-25T04:18:22.472872",
     "exception": false,
     "start_time": "2021-07-25T04:18:22.453110",
     "status": "completed"
    },
    "tags": []
   },
   "source": [
    "**Exercise 65: Update `users` by joining `sales` to it on `Return ID` and `Category ID`**"
   ]
  },
  {
   "cell_type": "code",
   "execution_count": 11,
   "id": "13b6452c",
   "metadata": {
    "id": "13b6452c",
    "papermill": {
     "duration": 0.019581,
     "end_time": "2021-07-25T04:18:22.512234",
     "exception": false,
     "start_time": "2021-07-25T04:18:22.492653",
     "status": "completed"
    },
    "tags": []
   },
   "outputs": [
    {
     "data": {
      "text/html": [
       "<div>\n",
       "<style scoped>\n",
       "    .dataframe tbody tr th:only-of-type {\n",
       "        vertical-align: middle;\n",
       "    }\n",
       "\n",
       "    .dataframe tbody tr th {\n",
       "        vertical-align: top;\n",
       "    }\n",
       "\n",
       "    .dataframe thead th {\n",
       "        text-align: right;\n",
       "    }\n",
       "</style>\n",
       "<table border=\"1\" class=\"dataframe\">\n",
       "  <thead>\n",
       "    <tr style=\"text-align: right;\">\n",
       "      <th></th>\n",
       "      <th>Number of Records</th>\n",
       "      <th>Order ID</th>\n",
       "      <th>Updated Order Returns</th>\n",
       "      <th>Return ID</th>\n",
       "      <th>Category</th>\n",
       "      <th>Category ID</th>\n",
       "      <th>Sales</th>\n",
       "      <th>Quantity</th>\n",
       "      <th>Discount</th>\n",
       "      <th>Month</th>\n",
       "      <th>Person</th>\n",
       "      <th>Region</th>\n",
       "    </tr>\n",
       "  </thead>\n",
       "  <tbody>\n",
       "    <tr>\n",
       "      <th>0</th>\n",
       "      <td>1</td>\n",
       "      <td>1.1</td>\n",
       "      <td>Inaccurate</td>\n",
       "      <td>R001</td>\n",
       "      <td>Apparels</td>\n",
       "      <td>1001</td>\n",
       "      <td>89.00</td>\n",
       "      <td>2</td>\n",
       "      <td>0.2</td>\n",
       "      <td>Jan</td>\n",
       "      <td>Perez</td>\n",
       "      <td>East</td>\n",
       "    </tr>\n",
       "    <tr>\n",
       "      <th>1</th>\n",
       "      <td>10</td>\n",
       "      <td>1.2</td>\n",
       "      <td>Late Delivery</td>\n",
       "      <td>R002</td>\n",
       "      <td>Electronics</td>\n",
       "      <td>1003</td>\n",
       "      <td>65.00</td>\n",
       "      <td>87</td>\n",
       "      <td>0.2</td>\n",
       "      <td>Jan</td>\n",
       "      <td>Kimi</td>\n",
       "      <td>East</td>\n",
       "    </tr>\n",
       "    <tr>\n",
       "      <th>2</th>\n",
       "      <td>1</td>\n",
       "      <td>1.3</td>\n",
       "      <td>Product Damaged</td>\n",
       "      <td>R003</td>\n",
       "      <td>Cosmetics</td>\n",
       "      <td>1002</td>\n",
       "      <td>272.74</td>\n",
       "      <td>3</td>\n",
       "      <td>0.2</td>\n",
       "      <td>Jan</td>\n",
       "      <td>Lando</td>\n",
       "      <td>Central</td>\n",
       "    </tr>\n",
       "    <tr>\n",
       "      <th>3</th>\n",
       "      <td>1</td>\n",
       "      <td>1.4</td>\n",
       "      <td>Incorrect Products Delivered</td>\n",
       "      <td>R004</td>\n",
       "      <td>Apparels</td>\n",
       "      <td>1001</td>\n",
       "      <td>3.54</td>\n",
       "      <td>2</td>\n",
       "      <td>0.8</td>\n",
       "      <td>Jan</td>\n",
       "      <td>Amy</td>\n",
       "      <td>West</td>\n",
       "    </tr>\n",
       "    <tr>\n",
       "      <th>4</th>\n",
       "      <td>1</td>\n",
       "      <td>1.7</td>\n",
       "      <td>Customer Dissatified With Product</td>\n",
       "      <td>R006</td>\n",
       "      <td>Apparels</td>\n",
       "      <td>1001</td>\n",
       "      <td>12.78</td>\n",
       "      <td>3</td>\n",
       "      <td>0.0</td>\n",
       "      <td>Jan</td>\n",
       "      <td>Isabella</td>\n",
       "      <td>West</td>\n",
       "    </tr>\n",
       "  </tbody>\n",
       "</table>\n",
       "</div>"
      ],
      "text/plain": [
       "   Number of Records  Order ID              Updated Order Returns Return ID  \\\n",
       "0                  1       1.1                         Inaccurate      R001   \n",
       "1                 10       1.2                      Late Delivery      R002   \n",
       "2                  1       1.3                    Product Damaged      R003   \n",
       "3                  1       1.4       Incorrect Products Delivered      R004   \n",
       "4                  1       1.7  Customer Dissatified With Product      R006   \n",
       "\n",
       "      Category  Category ID   Sales  Quantity  Discount Month    Person  \\\n",
       "0     Apparels         1001   89.00         2       0.2   Jan     Perez   \n",
       "1  Electronics         1003   65.00        87       0.2   Jan      Kimi   \n",
       "2    Cosmetics         1002  272.74         3       0.2   Jan     Lando   \n",
       "3     Apparels         1001    3.54         2       0.8   Jan       Amy   \n",
       "4     Apparels         1001   12.78         3       0.0   Jan  Isabella   \n",
       "\n",
       "    Region  \n",
       "0     East  \n",
       "1     East  \n",
       "2  Central  \n",
       "3     West  \n",
       "4     West  "
      ]
     },
     "execution_count": 11,
     "metadata": {},
     "output_type": "execute_result"
    }
   ],
   "source": [
    "users = sales.merge(users, on=['Return ID', 'Category ID'])\n",
    "users.head()"
   ]
  },
  {
   "cell_type": "markdown",
   "id": "48d03f0a",
   "metadata": {
    "id": "48d03f0a",
    "papermill": {
     "duration": 0.019736,
     "end_time": "2021-07-25T04:18:22.551924",
     "exception": false,
     "start_time": "2021-07-25T04:18:22.532188",
     "status": "completed"
    },
    "tags": []
   },
   "source": [
    "**Exercise 66: Display the Categories that had orders in Jan or Mar**"
   ]
  },
  {
   "cell_type": "code",
   "execution_count": 12,
   "id": "89775d36-cf6b-427d-9729-3fbcac7bac43",
   "metadata": {},
   "outputs": [
    {
     "data": {
      "text/plain": [
       "['Flowers',\n",
       " 'Cosmetics',\n",
       " 'Pet Care',\n",
       " 'Apparels',\n",
       " 'Electronics',\n",
       " 'Paper Products\\xa0',\n",
       " 'International Cuisine',\n",
       " 'Pharmacy']"
      ]
     },
     "execution_count": 12,
     "metadata": {},
     "output_type": "execute_result"
    }
   ],
   "source": [
    "list(set(orders_jan['Category']) | set(orders_mar['Category']))"
   ]
  },
  {
   "cell_type": "markdown",
   "id": "d07ffe7c",
   "metadata": {
    "id": "d07ffe7c",
    "papermill": {
     "duration": 0.019528,
     "end_time": "2021-07-25T04:18:22.630713",
     "exception": false,
     "start_time": "2021-07-25T04:18:22.611185",
     "status": "completed"
    },
    "tags": []
   },
   "source": [
    "**Exercise 67: Display the Categories that had orders in each of the three months**"
   ]
  },
  {
   "cell_type": "code",
   "execution_count": 13,
   "id": "10c3b102",
   "metadata": {
    "id": "10c3b102",
    "papermill": {
     "duration": 0.01943,
     "end_time": "2021-07-25T04:18:22.670009",
     "exception": false,
     "start_time": "2021-07-25T04:18:22.650579",
     "status": "completed"
    },
    "tags": []
   },
   "outputs": [
    {
     "data": {
      "text/plain": [
       "[]"
      ]
     },
     "execution_count": 13,
     "metadata": {},
     "output_type": "execute_result"
    }
   ],
   "source": [
    "list(set(orders_jan['Category']) & set(orders_feb['Category']) & set(orders_mar['Category']))"
   ]
  },
  {
   "cell_type": "markdown",
   "id": "ad104211",
   "metadata": {
    "id": "ad104211",
    "papermill": {
     "duration": 0.020465,
     "end_time": "2021-07-25T04:18:22.710340",
     "exception": false,
     "start_time": "2021-07-25T04:18:22.689875",
     "status": "completed"
    },
    "tags": []
   },
   "source": [
    "**Exercise 68: Display the Categories that had orders only in Jan but not in Feb and Mar**"
   ]
  },
  {
   "cell_type": "code",
   "execution_count": 14,
   "id": "7e4a1c75",
   "metadata": {
    "id": "7e4a1c75",
    "papermill": {
     "duration": 0.019524,
     "end_time": "2021-07-25T04:18:22.749844",
     "exception": false,
     "start_time": "2021-07-25T04:18:22.730320",
     "status": "completed"
    },
    "tags": []
   },
   "outputs": [
    {
     "data": {
      "text/plain": [
       "{'Cosmetics', 'Electronics'}"
      ]
     },
     "execution_count": 14,
     "metadata": {},
     "output_type": "execute_result"
    }
   ],
   "source": [
    "set(orders_jan['Category']) - set(set(orders_feb['Category']) | set(orders_mar['Category']))"
   ]
  },
  {
   "cell_type": "code",
   "execution_count": 15,
   "id": "6fd02c28-141a-490a-8e37-bdab3324b65a",
   "metadata": {},
   "outputs": [
    {
     "data": {
      "text/html": [
       "<div>\n",
       "<style scoped>\n",
       "    .dataframe tbody tr th:only-of-type {\n",
       "        vertical-align: middle;\n",
       "    }\n",
       "\n",
       "    .dataframe tbody tr th {\n",
       "        vertical-align: top;\n",
       "    }\n",
       "\n",
       "    .dataframe thead th {\n",
       "        text-align: right;\n",
       "    }\n",
       "</style>\n",
       "<table border=\"1\" class=\"dataframe\">\n",
       "  <thead>\n",
       "    <tr style=\"text-align: right;\">\n",
       "      <th>Category</th>\n",
       "      <th>Apparels</th>\n",
       "      <th>Cosmetics</th>\n",
       "      <th>Electronics</th>\n",
       "      <th>Flowers</th>\n",
       "      <th>Gift cards</th>\n",
       "      <th>Grocery</th>\n",
       "      <th>International Cuisine</th>\n",
       "      <th>Paper Products</th>\n",
       "      <th>Pet Care</th>\n",
       "      <th>Pharmacy</th>\n",
       "    </tr>\n",
       "    <tr>\n",
       "      <th>Month</th>\n",
       "      <th></th>\n",
       "      <th></th>\n",
       "      <th></th>\n",
       "      <th></th>\n",
       "      <th></th>\n",
       "      <th></th>\n",
       "      <th></th>\n",
       "      <th></th>\n",
       "      <th></th>\n",
       "      <th></th>\n",
       "    </tr>\n",
       "  </thead>\n",
       "  <tbody>\n",
       "    <tr>\n",
       "      <th>Feb</th>\n",
       "      <td>0</td>\n",
       "      <td>0</td>\n",
       "      <td>0</td>\n",
       "      <td>1</td>\n",
       "      <td>1</td>\n",
       "      <td>1</td>\n",
       "      <td>1</td>\n",
       "      <td>1</td>\n",
       "      <td>2</td>\n",
       "      <td>2</td>\n",
       "    </tr>\n",
       "    <tr>\n",
       "      <th>Jan</th>\n",
       "      <td>5</td>\n",
       "      <td>2</td>\n",
       "      <td>2</td>\n",
       "      <td>0</td>\n",
       "      <td>0</td>\n",
       "      <td>0</td>\n",
       "      <td>0</td>\n",
       "      <td>0</td>\n",
       "      <td>0</td>\n",
       "      <td>0</td>\n",
       "    </tr>\n",
       "    <tr>\n",
       "      <th>March</th>\n",
       "      <td>1</td>\n",
       "      <td>0</td>\n",
       "      <td>0</td>\n",
       "      <td>2</td>\n",
       "      <td>0</td>\n",
       "      <td>0</td>\n",
       "      <td>2</td>\n",
       "      <td>2</td>\n",
       "      <td>1</td>\n",
       "      <td>1</td>\n",
       "    </tr>\n",
       "  </tbody>\n",
       "</table>\n",
       "</div>"
      ],
      "text/plain": [
       "Category  Apparels  Cosmetics  Electronics  Flowers  Gift cards  Grocery  \\\n",
       "Month                                                                      \n",
       "Feb              0          0            0        1           1        1   \n",
       "Jan              5          2            2        0           0        0   \n",
       "March            1          0            0        2           0        0   \n",
       "\n",
       "Category  International Cuisine  Paper Products   Pet Care  Pharmacy  \n",
       "Month                                                                 \n",
       "Feb                           1                1         2         2  \n",
       "Jan                           0                0         0         0  \n",
       "March                         2                2         1         1  "
      ]
     },
     "execution_count": 15,
     "metadata": {},
     "output_type": "execute_result"
    }
   ],
   "source": [
    "pd.crosstab(orders_all['Category'], orders_all['Month']).T"
   ]
  },
  {
   "cell_type": "markdown",
   "id": "9aeb1333",
   "metadata": {
    "id": "9aeb1333",
    "papermill": {
     "duration": 0.019546,
     "end_time": "2021-07-25T04:18:22.789258",
     "exception": false,
     "start_time": "2021-07-25T04:18:22.769712",
     "status": "completed"
    },
    "tags": []
   },
   "source": [
    "**Exercise 69: Display the Categories that had orders in either of the three months but never together**"
   ]
  },
  {
   "cell_type": "code",
   "execution_count": 16,
   "id": "8e23174d",
   "metadata": {
    "id": "8e23174d",
    "papermill": {
     "duration": 0.01976,
     "end_time": "2021-07-25T04:18:22.828782",
     "exception": false,
     "start_time": "2021-07-25T04:18:22.809022",
     "status": "completed"
    },
    "tags": []
   },
   "outputs": [
    {
     "data": {
      "text/plain": [
       "['Cosmetics', 'Gift cards', 'Electronics', 'Grocery']"
      ]
     },
     "execution_count": 16,
     "metadata": {},
     "output_type": "execute_result"
    }
   ],
   "source": [
    "list(set(orders_jan['Category']) ^ set(orders_feb['Category']) ^ set(orders_mar['Category']))"
   ]
  },
  {
   "cell_type": "markdown",
   "id": "5631a82f",
   "metadata": {
    "id": "5631a82f",
    "papermill": {
     "duration": 0.019605,
     "end_time": "2021-07-25T04:18:22.868839",
     "exception": false,
     "start_time": "2021-07-25T04:18:22.849234",
     "status": "completed"
    },
    "tags": []
   },
   "source": [
    "**Exercise 70: One-hot encode the column `Region` in `users`, assign it to `ohe_region` and append it back to `users`**"
   ]
  },
  {
   "cell_type": "code",
   "execution_count": 17,
   "id": "1b70a8f2",
   "metadata": {
    "id": "1b70a8f2",
    "papermill": {
     "duration": 0.019707,
     "end_time": "2021-07-25T04:18:22.908484",
     "exception": false,
     "start_time": "2021-07-25T04:18:22.888777",
     "status": "completed"
    },
    "tags": []
   },
   "outputs": [
    {
     "data": {
      "text/html": [
       "<div>\n",
       "<style scoped>\n",
       "    .dataframe tbody tr th:only-of-type {\n",
       "        vertical-align: middle;\n",
       "    }\n",
       "\n",
       "    .dataframe tbody tr th {\n",
       "        vertical-align: top;\n",
       "    }\n",
       "\n",
       "    .dataframe thead th {\n",
       "        text-align: right;\n",
       "    }\n",
       "</style>\n",
       "<table border=\"1\" class=\"dataframe\">\n",
       "  <thead>\n",
       "    <tr style=\"text-align: right;\">\n",
       "      <th></th>\n",
       "      <th>Region_Central</th>\n",
       "      <th>Region_East</th>\n",
       "      <th>Region_South</th>\n",
       "      <th>Region_West</th>\n",
       "    </tr>\n",
       "  </thead>\n",
       "  <tbody>\n",
       "    <tr>\n",
       "      <th>0</th>\n",
       "      <td>0</td>\n",
       "      <td>1</td>\n",
       "      <td>0</td>\n",
       "      <td>0</td>\n",
       "    </tr>\n",
       "    <tr>\n",
       "      <th>1</th>\n",
       "      <td>0</td>\n",
       "      <td>1</td>\n",
       "      <td>0</td>\n",
       "      <td>0</td>\n",
       "    </tr>\n",
       "    <tr>\n",
       "      <th>2</th>\n",
       "      <td>1</td>\n",
       "      <td>0</td>\n",
       "      <td>0</td>\n",
       "      <td>0</td>\n",
       "    </tr>\n",
       "    <tr>\n",
       "      <th>3</th>\n",
       "      <td>0</td>\n",
       "      <td>0</td>\n",
       "      <td>0</td>\n",
       "      <td>1</td>\n",
       "    </tr>\n",
       "    <tr>\n",
       "      <th>4</th>\n",
       "      <td>0</td>\n",
       "      <td>0</td>\n",
       "      <td>0</td>\n",
       "      <td>1</td>\n",
       "    </tr>\n",
       "  </tbody>\n",
       "</table>\n",
       "</div>"
      ],
      "text/plain": [
       "   Region_Central  Region_East  Region_South  Region_West\n",
       "0               0            1             0            0\n",
       "1               0            1             0            0\n",
       "2               1            0             0            0\n",
       "3               0            0             0            1\n",
       "4               0            0             0            1"
      ]
     },
     "execution_count": 17,
     "metadata": {},
     "output_type": "execute_result"
    }
   ],
   "source": [
    "ohe_region = pd.get_dummies(users['Region'], prefix='Region').reset_index(drop=True)\n",
    "ohe_region.head()"
   ]
  },
  {
   "cell_type": "code",
   "execution_count": 18,
   "id": "4db8b691",
   "metadata": {
    "id": "4db8b691",
    "papermill": {
     "duration": 0.019452,
     "end_time": "2021-07-25T04:18:22.947910",
     "exception": false,
     "start_time": "2021-07-25T04:18:22.928458",
     "status": "completed"
    },
    "tags": []
   },
   "outputs": [
    {
     "data": {
      "text/html": [
       "<div>\n",
       "<style scoped>\n",
       "    .dataframe tbody tr th:only-of-type {\n",
       "        vertical-align: middle;\n",
       "    }\n",
       "\n",
       "    .dataframe tbody tr th {\n",
       "        vertical-align: top;\n",
       "    }\n",
       "\n",
       "    .dataframe thead th {\n",
       "        text-align: right;\n",
       "    }\n",
       "</style>\n",
       "<table border=\"1\" class=\"dataframe\">\n",
       "  <thead>\n",
       "    <tr style=\"text-align: right;\">\n",
       "      <th></th>\n",
       "      <th>Number of Records</th>\n",
       "      <th>Order ID</th>\n",
       "      <th>Updated Order Returns</th>\n",
       "      <th>Return ID</th>\n",
       "      <th>Category</th>\n",
       "      <th>Category ID</th>\n",
       "      <th>Sales</th>\n",
       "      <th>Quantity</th>\n",
       "      <th>Discount</th>\n",
       "      <th>Month</th>\n",
       "      <th>Person</th>\n",
       "      <th>Region</th>\n",
       "      <th>Region_Central</th>\n",
       "      <th>Region_East</th>\n",
       "      <th>Region_South</th>\n",
       "      <th>Region_West</th>\n",
       "    </tr>\n",
       "  </thead>\n",
       "  <tbody>\n",
       "    <tr>\n",
       "      <th>0</th>\n",
       "      <td>1</td>\n",
       "      <td>1.1</td>\n",
       "      <td>Inaccurate</td>\n",
       "      <td>R001</td>\n",
       "      <td>Apparels</td>\n",
       "      <td>1001</td>\n",
       "      <td>89.00</td>\n",
       "      <td>2</td>\n",
       "      <td>0.2</td>\n",
       "      <td>Jan</td>\n",
       "      <td>Perez</td>\n",
       "      <td>East</td>\n",
       "      <td>0</td>\n",
       "      <td>1</td>\n",
       "      <td>0</td>\n",
       "      <td>0</td>\n",
       "    </tr>\n",
       "    <tr>\n",
       "      <th>1</th>\n",
       "      <td>10</td>\n",
       "      <td>1.2</td>\n",
       "      <td>Late Delivery</td>\n",
       "      <td>R002</td>\n",
       "      <td>Electronics</td>\n",
       "      <td>1003</td>\n",
       "      <td>65.00</td>\n",
       "      <td>87</td>\n",
       "      <td>0.2</td>\n",
       "      <td>Jan</td>\n",
       "      <td>Kimi</td>\n",
       "      <td>East</td>\n",
       "      <td>0</td>\n",
       "      <td>1</td>\n",
       "      <td>0</td>\n",
       "      <td>0</td>\n",
       "    </tr>\n",
       "    <tr>\n",
       "      <th>2</th>\n",
       "      <td>1</td>\n",
       "      <td>1.3</td>\n",
       "      <td>Product Damaged</td>\n",
       "      <td>R003</td>\n",
       "      <td>Cosmetics</td>\n",
       "      <td>1002</td>\n",
       "      <td>272.74</td>\n",
       "      <td>3</td>\n",
       "      <td>0.2</td>\n",
       "      <td>Jan</td>\n",
       "      <td>Lando</td>\n",
       "      <td>Central</td>\n",
       "      <td>1</td>\n",
       "      <td>0</td>\n",
       "      <td>0</td>\n",
       "      <td>0</td>\n",
       "    </tr>\n",
       "    <tr>\n",
       "      <th>3</th>\n",
       "      <td>1</td>\n",
       "      <td>1.4</td>\n",
       "      <td>Incorrect Products Delivered</td>\n",
       "      <td>R004</td>\n",
       "      <td>Apparels</td>\n",
       "      <td>1001</td>\n",
       "      <td>3.54</td>\n",
       "      <td>2</td>\n",
       "      <td>0.8</td>\n",
       "      <td>Jan</td>\n",
       "      <td>Amy</td>\n",
       "      <td>West</td>\n",
       "      <td>0</td>\n",
       "      <td>0</td>\n",
       "      <td>0</td>\n",
       "      <td>1</td>\n",
       "    </tr>\n",
       "    <tr>\n",
       "      <th>4</th>\n",
       "      <td>1</td>\n",
       "      <td>1.7</td>\n",
       "      <td>Customer Dissatified With Product</td>\n",
       "      <td>R006</td>\n",
       "      <td>Apparels</td>\n",
       "      <td>1001</td>\n",
       "      <td>12.78</td>\n",
       "      <td>3</td>\n",
       "      <td>0.0</td>\n",
       "      <td>Jan</td>\n",
       "      <td>Isabella</td>\n",
       "      <td>West</td>\n",
       "      <td>0</td>\n",
       "      <td>0</td>\n",
       "      <td>0</td>\n",
       "      <td>1</td>\n",
       "    </tr>\n",
       "  </tbody>\n",
       "</table>\n",
       "</div>"
      ],
      "text/plain": [
       "   Number of Records  Order ID              Updated Order Returns Return ID  \\\n",
       "0                  1       1.1                         Inaccurate      R001   \n",
       "1                 10       1.2                      Late Delivery      R002   \n",
       "2                  1       1.3                    Product Damaged      R003   \n",
       "3                  1       1.4       Incorrect Products Delivered      R004   \n",
       "4                  1       1.7  Customer Dissatified With Product      R006   \n",
       "\n",
       "      Category  Category ID   Sales  Quantity  Discount Month    Person  \\\n",
       "0     Apparels         1001   89.00         2       0.2   Jan     Perez   \n",
       "1  Electronics         1003   65.00        87       0.2   Jan      Kimi   \n",
       "2    Cosmetics         1002  272.74         3       0.2   Jan     Lando   \n",
       "3     Apparels         1001    3.54         2       0.8   Jan       Amy   \n",
       "4     Apparels         1001   12.78         3       0.0   Jan  Isabella   \n",
       "\n",
       "    Region  Region_Central  Region_East  Region_South  Region_West  \n",
       "0     East               0            1             0            0  \n",
       "1     East               0            1             0            0  \n",
       "2  Central               1            0             0            0  \n",
       "3     West               0            0             0            1  \n",
       "4     West               0            0             0            1  "
      ]
     },
     "execution_count": 18,
     "metadata": {},
     "output_type": "execute_result"
    }
   ],
   "source": [
    "users = pd.concat([users, ohe_region], axis=1)\n",
    "users.head()"
   ]
  },
  {
   "cell_type": "markdown",
   "id": "0634d883",
   "metadata": {
    "id": "0634d883",
    "papermill": {
     "duration": 0.019941,
     "end_time": "2021-07-25T04:18:22.987851",
     "exception": false,
     "start_time": "2021-07-25T04:18:22.967910",
     "status": "completed"
    },
    "tags": []
   },
   "source": [
    "✅ This completes Set 7: Multiple Frames (Exercises 61-70)  \n",
    "Original exercises for Datatable package can be found [here](https://github.com/vopani/datatableton)"
   ]
  }
 ],
 "metadata": {
  "colab": {
   "name": "07_multiple_frames_exercises.ipynb",
   "provenance": []
  },
  "kernelspec": {
   "display_name": "pandas_exercises",
   "language": "python",
   "name": "pandas_exercises"
  },
  "language_info": {
   "codemirror_mode": {
    "name": "ipython",
    "version": 3
   },
   "file_extension": ".py",
   "mimetype": "text/x-python",
   "name": "python",
   "nbconvert_exporter": "python",
   "pygments_lexer": "ipython3",
   "version": "3.8.10"
  },
  "papermill": {
   "default_parameters": {},
   "duration": 40.838231,
   "end_time": "2021-07-25T04:18:23.617283",
   "environment_variables": {},
   "exception": null,
   "input_path": "__notebook__.ipynb",
   "output_path": "__notebook__.ipynb",
   "parameters": {},
   "start_time": "2021-07-25T04:17:42.779052",
   "version": "2.3.3"
  }
 },
 "nbformat": 4,
 "nbformat_minor": 5
}
