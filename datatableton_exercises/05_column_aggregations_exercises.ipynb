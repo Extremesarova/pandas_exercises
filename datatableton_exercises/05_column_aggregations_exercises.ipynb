{
 "cells": [
  {
   "cell_type": "markdown",
   "id": "26c3f6c7",
   "metadata": {
    "id": "26c3f6c7",
    "papermill": {
     "duration": 0.018935,
     "end_time": "2021-08-10T08:36:22.596212",
     "exception": false,
     "start_time": "2021-08-10T08:36:22.577277",
     "status": "completed"
    },
    "tags": []
   },
   "source": [
    "<center>\n",
    "    This is Set 5: Column Aggregations (Exercises 41-50)\n",
    "</center>"
   ]
  },
  {
   "cell_type": "markdown",
   "id": "5fa3b84c",
   "metadata": {
    "id": "5fa3b84c",
    "papermill": {
     "duration": 0.01903,
     "end_time": "2021-08-10T08:36:22.634700",
     "exception": false,
     "start_time": "2021-08-10T08:36:22.615670",
     "status": "completed"
    },
    "tags": []
   },
   "source": [
    "**Prerequisites**\n",
    "* The sample dataset [wine](https://scikit-learn.org/stable/modules/generated/sklearn.datasets.load_wine.html) from sklearn will be used for the exercises."
   ]
  },
  {
   "cell_type": "code",
   "execution_count": 1,
   "id": "77350e97",
   "metadata": {
    "_kg_hide-output": true,
    "id": "77350e97",
    "outputId": "fe8c178c-880e-41ad-fb32-bbf30931dcf2",
    "papermill": {
     "duration": 41.464385,
     "end_time": "2021-08-10T08:37:04.118649",
     "exception": false,
     "start_time": "2021-08-10T08:36:22.654264",
     "status": "completed"
    },
    "tags": []
   },
   "outputs": [],
   "source": [
    "# !pip install scikit-learn==1.0.2"
   ]
  },
  {
   "cell_type": "code",
   "execution_count": 2,
   "id": "7d03b242",
   "metadata": {
    "id": "7d03b242",
    "outputId": "d9c65de8-a8ca-4f41-933d-1015b8f36ad1",
    "papermill": {
     "duration": 1.159853,
     "end_time": "2021-08-10T08:37:05.304291",
     "exception": false,
     "start_time": "2021-08-10T08:37:04.144438",
     "status": "completed"
    },
    "tags": []
   },
   "outputs": [
    {
     "data": {
      "text/html": [
       "<div>\n",
       "<style scoped>\n",
       "    .dataframe tbody tr th:only-of-type {\n",
       "        vertical-align: middle;\n",
       "    }\n",
       "\n",
       "    .dataframe tbody tr th {\n",
       "        vertical-align: top;\n",
       "    }\n",
       "\n",
       "    .dataframe thead th {\n",
       "        text-align: right;\n",
       "    }\n",
       "</style>\n",
       "<table border=\"1\" class=\"dataframe\">\n",
       "  <thead>\n",
       "    <tr style=\"text-align: right;\">\n",
       "      <th></th>\n",
       "      <th>alcohol</th>\n",
       "      <th>malic_acid</th>\n",
       "      <th>ash</th>\n",
       "      <th>alcalinity_of_ash</th>\n",
       "      <th>magnesium</th>\n",
       "      <th>total_phenols</th>\n",
       "      <th>flavanoids</th>\n",
       "      <th>nonflavanoid_phenols</th>\n",
       "      <th>proanthocyanins</th>\n",
       "      <th>color_intensity</th>\n",
       "      <th>hue</th>\n",
       "      <th>od280/od315_of_diluted_wines</th>\n",
       "      <th>proline</th>\n",
       "      <th>target</th>\n",
       "    </tr>\n",
       "  </thead>\n",
       "  <tbody>\n",
       "    <tr>\n",
       "      <th>0</th>\n",
       "      <td>14.23</td>\n",
       "      <td>1.71</td>\n",
       "      <td>2.43</td>\n",
       "      <td>15.6</td>\n",
       "      <td>127.0</td>\n",
       "      <td>2.80</td>\n",
       "      <td>3.06</td>\n",
       "      <td>0.28</td>\n",
       "      <td>2.29</td>\n",
       "      <td>5.64</td>\n",
       "      <td>1.04</td>\n",
       "      <td>3.92</td>\n",
       "      <td>1065.0</td>\n",
       "      <td>0</td>\n",
       "    </tr>\n",
       "    <tr>\n",
       "      <th>1</th>\n",
       "      <td>13.20</td>\n",
       "      <td>1.78</td>\n",
       "      <td>2.14</td>\n",
       "      <td>11.2</td>\n",
       "      <td>100.0</td>\n",
       "      <td>2.65</td>\n",
       "      <td>2.76</td>\n",
       "      <td>0.26</td>\n",
       "      <td>1.28</td>\n",
       "      <td>4.38</td>\n",
       "      <td>1.05</td>\n",
       "      <td>3.40</td>\n",
       "      <td>1050.0</td>\n",
       "      <td>0</td>\n",
       "    </tr>\n",
       "    <tr>\n",
       "      <th>2</th>\n",
       "      <td>13.16</td>\n",
       "      <td>2.36</td>\n",
       "      <td>2.67</td>\n",
       "      <td>18.6</td>\n",
       "      <td>101.0</td>\n",
       "      <td>2.80</td>\n",
       "      <td>3.24</td>\n",
       "      <td>0.30</td>\n",
       "      <td>2.81</td>\n",
       "      <td>5.68</td>\n",
       "      <td>1.03</td>\n",
       "      <td>3.17</td>\n",
       "      <td>1185.0</td>\n",
       "      <td>0</td>\n",
       "    </tr>\n",
       "    <tr>\n",
       "      <th>3</th>\n",
       "      <td>14.37</td>\n",
       "      <td>1.95</td>\n",
       "      <td>2.50</td>\n",
       "      <td>16.8</td>\n",
       "      <td>113.0</td>\n",
       "      <td>3.85</td>\n",
       "      <td>3.49</td>\n",
       "      <td>0.24</td>\n",
       "      <td>2.18</td>\n",
       "      <td>7.80</td>\n",
       "      <td>0.86</td>\n",
       "      <td>3.45</td>\n",
       "      <td>1480.0</td>\n",
       "      <td>0</td>\n",
       "    </tr>\n",
       "    <tr>\n",
       "      <th>4</th>\n",
       "      <td>13.24</td>\n",
       "      <td>2.59</td>\n",
       "      <td>2.87</td>\n",
       "      <td>21.0</td>\n",
       "      <td>118.0</td>\n",
       "      <td>2.80</td>\n",
       "      <td>2.69</td>\n",
       "      <td>0.39</td>\n",
       "      <td>1.82</td>\n",
       "      <td>4.32</td>\n",
       "      <td>1.04</td>\n",
       "      <td>2.93</td>\n",
       "      <td>735.0</td>\n",
       "      <td>0</td>\n",
       "    </tr>\n",
       "  </tbody>\n",
       "</table>\n",
       "</div>"
      ],
      "text/plain": [
       "   alcohol  malic_acid   ash  alcalinity_of_ash  magnesium  total_phenols  \\\n",
       "0    14.23        1.71  2.43               15.6      127.0           2.80   \n",
       "1    13.20        1.78  2.14               11.2      100.0           2.65   \n",
       "2    13.16        2.36  2.67               18.6      101.0           2.80   \n",
       "3    14.37        1.95  2.50               16.8      113.0           3.85   \n",
       "4    13.24        2.59  2.87               21.0      118.0           2.80   \n",
       "\n",
       "   flavanoids  nonflavanoid_phenols  proanthocyanins  color_intensity   hue  \\\n",
       "0        3.06                  0.28             2.29             5.64  1.04   \n",
       "1        2.76                  0.26             1.28             4.38  1.05   \n",
       "2        3.24                  0.30             2.81             5.68  1.03   \n",
       "3        3.49                  0.24             2.18             7.80  0.86   \n",
       "4        2.69                  0.39             1.82             4.32  1.04   \n",
       "\n",
       "   od280/od315_of_diluted_wines  proline  target  \n",
       "0                          3.92   1065.0       0  \n",
       "1                          3.40   1050.0       0  \n",
       "2                          3.17   1185.0       0  \n",
       "3                          3.45   1480.0       0  \n",
       "4                          2.93    735.0       0  "
      ]
     },
     "execution_count": 2,
     "metadata": {},
     "output_type": "execute_result"
    }
   ],
   "source": [
    "import pandas as pd\n",
    "from sklearn.datasets import load_wine\n",
    "\n",
    "data = load_wine(as_frame=True).frame\n",
    "data.head()"
   ]
  },
  {
   "cell_type": "markdown",
   "id": "ae13e459",
   "metadata": {
    "id": "ae13e459",
    "papermill": {
     "duration": 0.026693,
     "end_time": "2021-08-10T08:37:05.358032",
     "exception": false,
     "start_time": "2021-08-10T08:37:05.331339",
     "status": "completed"
    },
    "tags": []
   },
   "source": [
    "**Exercise 41: Calculate the sum of column `ash` in `data`**"
   ]
  },
  {
   "cell_type": "code",
   "execution_count": 3,
   "id": "7174bd84",
   "metadata": {
    "id": "7174bd84",
    "papermill": {
     "duration": 0.02624,
     "end_time": "2021-08-10T08:37:05.411549",
     "exception": false,
     "start_time": "2021-08-10T08:37:05.385309",
     "status": "completed"
    },
    "tags": []
   },
   "outputs": [
    {
     "data": {
      "text/plain": [
       "421.24"
      ]
     },
     "execution_count": 3,
     "metadata": {},
     "output_type": "execute_result"
    }
   ],
   "source": [
    "data['ash'].sum()"
   ]
  },
  {
   "cell_type": "markdown",
   "id": "b3d0b026",
   "metadata": {
    "id": "b3d0b026",
    "papermill": {
     "duration": 0.026452,
     "end_time": "2021-08-10T08:37:05.464490",
     "exception": false,
     "start_time": "2021-08-10T08:37:05.438038",
     "status": "completed"
    },
    "tags": []
   },
   "source": [
    "**Exercise 42: Calculate the average value of each column in `data`**"
   ]
  },
  {
   "cell_type": "code",
   "execution_count": 4,
   "id": "d0631472",
   "metadata": {
    "id": "d0631472",
    "papermill": {
     "duration": 0.026243,
     "end_time": "2021-08-10T08:37:05.518457",
     "exception": false,
     "start_time": "2021-08-10T08:37:05.492214",
     "status": "completed"
    },
    "tags": []
   },
   "outputs": [
    {
     "data": {
      "text/plain": [
       "alcohol                          13.000618\n",
       "malic_acid                        2.336348\n",
       "ash                               2.366517\n",
       "alcalinity_of_ash                19.494944\n",
       "magnesium                        99.741573\n",
       "total_phenols                     2.295112\n",
       "flavanoids                        2.029270\n",
       "nonflavanoid_phenols              0.361854\n",
       "proanthocyanins                   1.590899\n",
       "color_intensity                   5.058090\n",
       "hue                               0.957449\n",
       "od280/od315_of_diluted_wines      2.611685\n",
       "proline                         746.893258\n",
       "target                            0.938202\n",
       "dtype: float64"
      ]
     },
     "execution_count": 4,
     "metadata": {},
     "output_type": "execute_result"
    }
   ],
   "source": [
    "data.mean()"
   ]
  },
  {
   "cell_type": "markdown",
   "id": "494e5f23",
   "metadata": {
    "id": "494e5f23",
    "papermill": {
     "duration": 0.026426,
     "end_time": "2021-08-10T08:37:05.571328",
     "exception": false,
     "start_time": "2021-08-10T08:37:05.544902",
     "status": "completed"
    },
    "tags": []
   },
   "source": [
    "**Exercise 43: Calculate the minimum value and maximum value of each column in `data` where `target` is 1**"
   ]
  },
  {
   "cell_type": "code",
   "execution_count": 5,
   "id": "bf9d187e",
   "metadata": {
    "id": "bf9d187e",
    "papermill": {
     "duration": 0.026173,
     "end_time": "2021-08-10T08:37:05.623978",
     "exception": false,
     "start_time": "2021-08-10T08:37:05.597805",
     "status": "completed"
    },
    "tags": []
   },
   "outputs": [
    {
     "data": {
      "text/html": [
       "<div>\n",
       "<style scoped>\n",
       "    .dataframe tbody tr th:only-of-type {\n",
       "        vertical-align: middle;\n",
       "    }\n",
       "\n",
       "    .dataframe tbody tr th {\n",
       "        vertical-align: top;\n",
       "    }\n",
       "\n",
       "    .dataframe thead th {\n",
       "        text-align: right;\n",
       "    }\n",
       "</style>\n",
       "<table border=\"1\" class=\"dataframe\">\n",
       "  <thead>\n",
       "    <tr style=\"text-align: right;\">\n",
       "      <th></th>\n",
       "      <th>alcohol</th>\n",
       "      <th>malic_acid</th>\n",
       "      <th>ash</th>\n",
       "      <th>alcalinity_of_ash</th>\n",
       "      <th>magnesium</th>\n",
       "      <th>total_phenols</th>\n",
       "      <th>flavanoids</th>\n",
       "      <th>nonflavanoid_phenols</th>\n",
       "      <th>proanthocyanins</th>\n",
       "      <th>color_intensity</th>\n",
       "      <th>hue</th>\n",
       "      <th>od280/od315_of_diluted_wines</th>\n",
       "      <th>proline</th>\n",
       "    </tr>\n",
       "  </thead>\n",
       "  <tbody>\n",
       "    <tr>\n",
       "      <th>min</th>\n",
       "      <td>11.03</td>\n",
       "      <td>0.74</td>\n",
       "      <td>1.36</td>\n",
       "      <td>10.6</td>\n",
       "      <td>70.0</td>\n",
       "      <td>1.10</td>\n",
       "      <td>0.57</td>\n",
       "      <td>0.13</td>\n",
       "      <td>0.41</td>\n",
       "      <td>1.28</td>\n",
       "      <td>0.69</td>\n",
       "      <td>1.59</td>\n",
       "      <td>278.0</td>\n",
       "    </tr>\n",
       "    <tr>\n",
       "      <th>max</th>\n",
       "      <td>13.86</td>\n",
       "      <td>5.80</td>\n",
       "      <td>3.23</td>\n",
       "      <td>30.0</td>\n",
       "      <td>162.0</td>\n",
       "      <td>3.52</td>\n",
       "      <td>5.08</td>\n",
       "      <td>0.66</td>\n",
       "      <td>3.58</td>\n",
       "      <td>6.00</td>\n",
       "      <td>1.71</td>\n",
       "      <td>3.69</td>\n",
       "      <td>985.0</td>\n",
       "    </tr>\n",
       "  </tbody>\n",
       "</table>\n",
       "</div>"
      ],
      "text/plain": [
       "     alcohol  malic_acid   ash  alcalinity_of_ash  magnesium  total_phenols  \\\n",
       "min    11.03        0.74  1.36               10.6       70.0           1.10   \n",
       "max    13.86        5.80  3.23               30.0      162.0           3.52   \n",
       "\n",
       "     flavanoids  nonflavanoid_phenols  proanthocyanins  color_intensity   hue  \\\n",
       "min        0.57                  0.13             0.41             1.28  0.69   \n",
       "max        5.08                  0.66             3.58             6.00  1.71   \n",
       "\n",
       "     od280/od315_of_diluted_wines  proline  \n",
       "min                          1.59    278.0  \n",
       "max                          3.69    985.0  "
      ]
     },
     "execution_count": 5,
     "metadata": {},
     "output_type": "execute_result"
    }
   ],
   "source": [
    "data[data['target']==1].drop('target', axis=1).agg([min, max])"
   ]
  },
  {
   "cell_type": "markdown",
   "id": "f9a75409",
   "metadata": {
    "id": "f9a75409",
    "papermill": {
     "duration": 0.026174,
     "end_time": "2021-08-10T08:37:05.729542",
     "exception": false,
     "start_time": "2021-08-10T08:37:05.703368",
     "status": "completed"
    },
    "tags": []
   },
   "source": [
    "**Exercise 44: Calculate the median value of columns `flavanoids`, `hue` and `magnesium` in `data`**"
   ]
  },
  {
   "cell_type": "code",
   "execution_count": 6,
   "id": "8295ae18",
   "metadata": {
    "id": "8295ae18",
    "papermill": {
     "duration": 0.02635,
     "end_time": "2021-08-10T08:37:05.782623",
     "exception": false,
     "start_time": "2021-08-10T08:37:05.756273",
     "status": "completed"
    },
    "tags": []
   },
   "outputs": [
    {
     "data": {
      "text/plain": [
       "flavanoids     2.135\n",
       "hue            0.965\n",
       "magnesium     98.000\n",
       "dtype: float64"
      ]
     },
     "execution_count": 6,
     "metadata": {},
     "output_type": "execute_result"
    }
   ],
   "source": [
    "data[['flavanoids', 'hue', 'magnesium']].median()"
   ]
  },
  {
   "cell_type": "markdown",
   "id": "c425d4a6",
   "metadata": {
    "id": "c425d4a6",
    "papermill": {
     "duration": 0.026589,
     "end_time": "2021-08-10T08:37:05.836052",
     "exception": false,
     "start_time": "2021-08-10T08:37:05.809463",
     "status": "completed"
    },
    "tags": []
   },
   "source": [
    "**Exercise 45: Calculate the mode of columns `alcohol` and `proline` in `data`**"
   ]
  },
  {
   "cell_type": "code",
   "execution_count": 7,
   "id": "f30ad62c",
   "metadata": {
    "id": "f30ad62c",
    "papermill": {
     "duration": 0.027007,
     "end_time": "2021-08-10T08:37:05.891005",
     "exception": false,
     "start_time": "2021-08-10T08:37:05.863998",
     "status": "completed"
    },
    "tags": []
   },
   "outputs": [
    {
     "data": {
      "text/html": [
       "<div>\n",
       "<style scoped>\n",
       "    .dataframe tbody tr th:only-of-type {\n",
       "        vertical-align: middle;\n",
       "    }\n",
       "\n",
       "    .dataframe tbody tr th {\n",
       "        vertical-align: top;\n",
       "    }\n",
       "\n",
       "    .dataframe thead th {\n",
       "        text-align: right;\n",
       "    }\n",
       "</style>\n",
       "<table border=\"1\" class=\"dataframe\">\n",
       "  <thead>\n",
       "    <tr style=\"text-align: right;\">\n",
       "      <th></th>\n",
       "      <th>alcohol</th>\n",
       "      <th>proline</th>\n",
       "    </tr>\n",
       "  </thead>\n",
       "  <tbody>\n",
       "    <tr>\n",
       "      <th>0</th>\n",
       "      <td>12.37</td>\n",
       "      <td>520.0</td>\n",
       "    </tr>\n",
       "    <tr>\n",
       "      <th>1</th>\n",
       "      <td>13.05</td>\n",
       "      <td>680.0</td>\n",
       "    </tr>\n",
       "  </tbody>\n",
       "</table>\n",
       "</div>"
      ],
      "text/plain": [
       "   alcohol  proline\n",
       "0    12.37    520.0\n",
       "1    13.05    680.0"
      ]
     },
     "execution_count": 7,
     "metadata": {},
     "output_type": "execute_result"
    }
   ],
   "source": [
    "data[['alcohol', 'proline']].mode(axis=0)"
   ]
  },
  {
   "cell_type": "markdown",
   "id": "ce983433",
   "metadata": {
    "id": "ce983433",
    "papermill": {
     "duration": 0.027771,
     "end_time": "2021-08-10T08:37:05.946645",
     "exception": false,
     "start_time": "2021-08-10T08:37:05.918874",
     "status": "completed"
    },
    "tags": []
   },
   "source": [
    "**Exercise 46: Calculate the standard deviation, skewness and excess kurtosis of each column in `data`**"
   ]
  },
  {
   "cell_type": "code",
   "execution_count": 8,
   "id": "5a891bd5",
   "metadata": {
    "id": "5a891bd5",
    "papermill": {
     "duration": 0.026982,
     "end_time": "2021-08-10T08:37:06.000936",
     "exception": false,
     "start_time": "2021-08-10T08:37:05.973954",
     "status": "completed"
    },
    "tags": []
   },
   "outputs": [
    {
     "data": {
      "text/html": [
       "<div>\n",
       "<style scoped>\n",
       "    .dataframe tbody tr th:only-of-type {\n",
       "        vertical-align: middle;\n",
       "    }\n",
       "\n",
       "    .dataframe tbody tr th {\n",
       "        vertical-align: top;\n",
       "    }\n",
       "\n",
       "    .dataframe thead th {\n",
       "        text-align: right;\n",
       "    }\n",
       "</style>\n",
       "<table border=\"1\" class=\"dataframe\">\n",
       "  <thead>\n",
       "    <tr style=\"text-align: right;\">\n",
       "      <th></th>\n",
       "      <th>alcohol</th>\n",
       "      <th>malic_acid</th>\n",
       "      <th>ash</th>\n",
       "      <th>alcalinity_of_ash</th>\n",
       "      <th>magnesium</th>\n",
       "      <th>total_phenols</th>\n",
       "      <th>flavanoids</th>\n",
       "      <th>nonflavanoid_phenols</th>\n",
       "      <th>proanthocyanins</th>\n",
       "      <th>color_intensity</th>\n",
       "      <th>hue</th>\n",
       "      <th>od280/od315_of_diluted_wines</th>\n",
       "      <th>proline</th>\n",
       "      <th>target</th>\n",
       "    </tr>\n",
       "  </thead>\n",
       "  <tbody>\n",
       "    <tr>\n",
       "      <th>std</th>\n",
       "      <td>0.811827</td>\n",
       "      <td>1.117146</td>\n",
       "      <td>0.274344</td>\n",
       "      <td>3.339564</td>\n",
       "      <td>14.282484</td>\n",
       "      <td>0.625851</td>\n",
       "      <td>0.998859</td>\n",
       "      <td>0.124453</td>\n",
       "      <td>0.572359</td>\n",
       "      <td>2.318286</td>\n",
       "      <td>0.228572</td>\n",
       "      <td>0.709990</td>\n",
       "      <td>314.907474</td>\n",
       "      <td>0.775035</td>\n",
       "    </tr>\n",
       "    <tr>\n",
       "      <th>skew</th>\n",
       "      <td>-0.051482</td>\n",
       "      <td>1.039651</td>\n",
       "      <td>-0.176699</td>\n",
       "      <td>0.213047</td>\n",
       "      <td>1.098191</td>\n",
       "      <td>0.086639</td>\n",
       "      <td>0.025344</td>\n",
       "      <td>0.450151</td>\n",
       "      <td>0.517137</td>\n",
       "      <td>0.868585</td>\n",
       "      <td>0.021091</td>\n",
       "      <td>-0.307285</td>\n",
       "      <td>0.767822</td>\n",
       "      <td>0.107431</td>\n",
       "    </tr>\n",
       "    <tr>\n",
       "      <th>kurtosis</th>\n",
       "      <td>-0.852500</td>\n",
       "      <td>0.299207</td>\n",
       "      <td>1.143978</td>\n",
       "      <td>0.487942</td>\n",
       "      <td>2.104991</td>\n",
       "      <td>-0.835627</td>\n",
       "      <td>-0.880382</td>\n",
       "      <td>-0.637191</td>\n",
       "      <td>0.554649</td>\n",
       "      <td>0.381522</td>\n",
       "      <td>-0.344096</td>\n",
       "      <td>-1.086435</td>\n",
       "      <td>-0.248403</td>\n",
       "      <td>-1.322787</td>\n",
       "    </tr>\n",
       "  </tbody>\n",
       "</table>\n",
       "</div>"
      ],
      "text/plain": [
       "           alcohol  malic_acid       ash  alcalinity_of_ash  magnesium  \\\n",
       "std       0.811827    1.117146  0.274344           3.339564  14.282484   \n",
       "skew     -0.051482    1.039651 -0.176699           0.213047   1.098191   \n",
       "kurtosis -0.852500    0.299207  1.143978           0.487942   2.104991   \n",
       "\n",
       "          total_phenols  flavanoids  nonflavanoid_phenols  proanthocyanins  \\\n",
       "std            0.625851    0.998859              0.124453         0.572359   \n",
       "skew           0.086639    0.025344              0.450151         0.517137   \n",
       "kurtosis      -0.835627   -0.880382             -0.637191         0.554649   \n",
       "\n",
       "          color_intensity       hue  od280/od315_of_diluted_wines     proline  \\\n",
       "std              2.318286  0.228572                      0.709990  314.907474   \n",
       "skew             0.868585  0.021091                     -0.307285    0.767822   \n",
       "kurtosis         0.381522 -0.344096                     -1.086435   -0.248403   \n",
       "\n",
       "            target  \n",
       "std       0.775035  \n",
       "skew      0.107431  \n",
       "kurtosis -1.322787  "
      ]
     },
     "execution_count": 8,
     "metadata": {},
     "output_type": "execute_result"
    }
   ],
   "source": [
    "data.agg([\"std\", \"skew\", \"kurtosis\"])"
   ]
  },
  {
   "cell_type": "markdown",
   "id": "4bea7d84",
   "metadata": {
    "id": "4bea7d84",
    "papermill": {
     "duration": 0.027156,
     "end_time": "2021-08-10T08:37:06.164264",
     "exception": false,
     "start_time": "2021-08-10T08:37:06.137108",
     "status": "completed"
    },
    "tags": []
   },
   "source": [
    "**Exercise 47: Calculate the number of unique values in each column of `data`**"
   ]
  },
  {
   "cell_type": "code",
   "execution_count": 9,
   "id": "7378bb86",
   "metadata": {
    "id": "7378bb86",
    "papermill": {
     "duration": 0.026315,
     "end_time": "2021-08-10T08:37:06.217695",
     "exception": false,
     "start_time": "2021-08-10T08:37:06.191380",
     "status": "completed"
    },
    "tags": []
   },
   "outputs": [
    {
     "data": {
      "text/plain": [
       "alcohol                         126\n",
       "malic_acid                      133\n",
       "ash                              79\n",
       "alcalinity_of_ash                63\n",
       "magnesium                        53\n",
       "total_phenols                    97\n",
       "flavanoids                      132\n",
       "nonflavanoid_phenols             39\n",
       "proanthocyanins                 101\n",
       "color_intensity                 132\n",
       "hue                              78\n",
       "od280/od315_of_diluted_wines    122\n",
       "proline                         121\n",
       "target                            3\n",
       "dtype: int64"
      ]
     },
     "execution_count": 9,
     "metadata": {},
     "output_type": "execute_result"
    }
   ],
   "source": [
    "data.nunique(axis=0)"
   ]
  },
  {
   "cell_type": "markdown",
   "id": "81c748d4",
   "metadata": {
    "id": "81c748d4",
    "papermill": {
     "duration": 0.026282,
     "end_time": "2021-08-10T08:37:06.270864",
     "exception": false,
     "start_time": "2021-08-10T08:37:06.244582",
     "status": "completed"
    },
    "tags": []
   },
   "source": [
    "**Exercise 48: Calculate the covariance between columns `alcohol` and `color_intensity` in `data`**"
   ]
  },
  {
   "cell_type": "code",
   "execution_count": 10,
   "id": "8ae90b82",
   "metadata": {
    "id": "8ae90b82",
    "papermill": {
     "duration": 0.026217,
     "end_time": "2021-08-10T08:37:06.323747",
     "exception": false,
     "start_time": "2021-08-10T08:37:06.297530",
     "status": "completed"
    },
    "tags": []
   },
   "outputs": [
    {
     "data": {
      "text/plain": [
       "1.0282825443106076"
      ]
     },
     "execution_count": 10,
     "metadata": {},
     "output_type": "execute_result"
    }
   ],
   "source": [
    "data[['alcohol', 'color_intensity']].cov().loc['alcohol', 'color_intensity']"
   ]
  },
  {
   "cell_type": "markdown",
   "id": "66518e93",
   "metadata": {
    "id": "66518e93",
    "papermill": {
     "duration": 0.026554,
     "end_time": "2021-08-10T08:37:06.377028",
     "exception": false,
     "start_time": "2021-08-10T08:37:06.350474",
     "status": "completed"
    },
    "tags": []
   },
   "source": [
    "**Exercise 49: Calculate the correlation between columns `hue` and `color_intensity` in `data`**"
   ]
  },
  {
   "cell_type": "code",
   "execution_count": 11,
   "id": "c2d515e1",
   "metadata": {
    "id": "c2d515e1",
    "papermill": {
     "duration": 0.027446,
     "end_time": "2021-08-10T08:37:06.431091",
     "exception": false,
     "start_time": "2021-08-10T08:37:06.403645",
     "status": "completed"
    },
    "tags": []
   },
   "outputs": [
    {
     "data": {
      "text/plain": [
       "-0.5218131932287572"
      ]
     },
     "execution_count": 11,
     "metadata": {},
     "output_type": "execute_result"
    }
   ],
   "source": [
    "data[['hue', 'color_intensity']].corr().loc['hue', 'color_intensity']"
   ]
  },
  {
   "cell_type": "markdown",
   "id": "6d59dbf9",
   "metadata": {
    "id": "6d59dbf9",
    "papermill": {
     "duration": 0.026344,
     "end_time": "2021-08-10T08:37:06.484277",
     "exception": false,
     "start_time": "2021-08-10T08:37:06.457933",
     "status": "completed"
    },
    "tags": []
   },
   "source": [
    "**Exercise 50: Calculate the correlation matrix between all pairs of columns in `data` and assign it to `corr_matrix`**"
   ]
  },
  {
   "cell_type": "code",
   "execution_count": 12,
   "id": "60ec0700",
   "metadata": {
    "id": "60ec0700",
    "papermill": {
     "duration": 0.026806,
     "end_time": "2021-08-10T08:37:06.538082",
     "exception": false,
     "start_time": "2021-08-10T08:37:06.511276",
     "status": "completed"
    },
    "tags": []
   },
   "outputs": [
    {
     "data": {
      "text/html": [
       "<div>\n",
       "<style scoped>\n",
       "    .dataframe tbody tr th:only-of-type {\n",
       "        vertical-align: middle;\n",
       "    }\n",
       "\n",
       "    .dataframe tbody tr th {\n",
       "        vertical-align: top;\n",
       "    }\n",
       "\n",
       "    .dataframe thead th {\n",
       "        text-align: right;\n",
       "    }\n",
       "</style>\n",
       "<table border=\"1\" class=\"dataframe\">\n",
       "  <thead>\n",
       "    <tr style=\"text-align: right;\">\n",
       "      <th></th>\n",
       "      <th>alcohol</th>\n",
       "      <th>malic_acid</th>\n",
       "      <th>ash</th>\n",
       "      <th>alcalinity_of_ash</th>\n",
       "      <th>magnesium</th>\n",
       "      <th>total_phenols</th>\n",
       "      <th>flavanoids</th>\n",
       "      <th>nonflavanoid_phenols</th>\n",
       "      <th>proanthocyanins</th>\n",
       "      <th>color_intensity</th>\n",
       "      <th>hue</th>\n",
       "      <th>od280/od315_of_diluted_wines</th>\n",
       "      <th>proline</th>\n",
       "      <th>target</th>\n",
       "    </tr>\n",
       "  </thead>\n",
       "  <tbody>\n",
       "    <tr>\n",
       "      <th>alcohol</th>\n",
       "      <td>1.00</td>\n",
       "      <td>0.09</td>\n",
       "      <td>0.21</td>\n",
       "      <td>-0.31</td>\n",
       "      <td>0.27</td>\n",
       "      <td>0.29</td>\n",
       "      <td>0.24</td>\n",
       "      <td>-0.16</td>\n",
       "      <td>0.14</td>\n",
       "      <td>0.55</td>\n",
       "      <td>-0.07</td>\n",
       "      <td>0.07</td>\n",
       "      <td>0.64</td>\n",
       "      <td>-0.33</td>\n",
       "    </tr>\n",
       "    <tr>\n",
       "      <th>malic_acid</th>\n",
       "      <td>0.09</td>\n",
       "      <td>1.00</td>\n",
       "      <td>0.16</td>\n",
       "      <td>0.29</td>\n",
       "      <td>-0.05</td>\n",
       "      <td>-0.34</td>\n",
       "      <td>-0.41</td>\n",
       "      <td>0.29</td>\n",
       "      <td>-0.22</td>\n",
       "      <td>0.25</td>\n",
       "      <td>-0.56</td>\n",
       "      <td>-0.37</td>\n",
       "      <td>-0.19</td>\n",
       "      <td>0.44</td>\n",
       "    </tr>\n",
       "    <tr>\n",
       "      <th>ash</th>\n",
       "      <td>0.21</td>\n",
       "      <td>0.16</td>\n",
       "      <td>1.00</td>\n",
       "      <td>0.44</td>\n",
       "      <td>0.29</td>\n",
       "      <td>0.13</td>\n",
       "      <td>0.12</td>\n",
       "      <td>0.19</td>\n",
       "      <td>0.01</td>\n",
       "      <td>0.26</td>\n",
       "      <td>-0.07</td>\n",
       "      <td>0.00</td>\n",
       "      <td>0.22</td>\n",
       "      <td>-0.05</td>\n",
       "    </tr>\n",
       "    <tr>\n",
       "      <th>alcalinity_of_ash</th>\n",
       "      <td>-0.31</td>\n",
       "      <td>0.29</td>\n",
       "      <td>0.44</td>\n",
       "      <td>1.00</td>\n",
       "      <td>-0.08</td>\n",
       "      <td>-0.32</td>\n",
       "      <td>-0.35</td>\n",
       "      <td>0.36</td>\n",
       "      <td>-0.20</td>\n",
       "      <td>0.02</td>\n",
       "      <td>-0.27</td>\n",
       "      <td>-0.28</td>\n",
       "      <td>-0.44</td>\n",
       "      <td>0.52</td>\n",
       "    </tr>\n",
       "    <tr>\n",
       "      <th>magnesium</th>\n",
       "      <td>0.27</td>\n",
       "      <td>-0.05</td>\n",
       "      <td>0.29</td>\n",
       "      <td>-0.08</td>\n",
       "      <td>1.00</td>\n",
       "      <td>0.21</td>\n",
       "      <td>0.20</td>\n",
       "      <td>-0.26</td>\n",
       "      <td>0.24</td>\n",
       "      <td>0.20</td>\n",
       "      <td>0.06</td>\n",
       "      <td>0.07</td>\n",
       "      <td>0.39</td>\n",
       "      <td>-0.21</td>\n",
       "    </tr>\n",
       "    <tr>\n",
       "      <th>total_phenols</th>\n",
       "      <td>0.29</td>\n",
       "      <td>-0.34</td>\n",
       "      <td>0.13</td>\n",
       "      <td>-0.32</td>\n",
       "      <td>0.21</td>\n",
       "      <td>1.00</td>\n",
       "      <td>0.86</td>\n",
       "      <td>-0.45</td>\n",
       "      <td>0.61</td>\n",
       "      <td>-0.06</td>\n",
       "      <td>0.43</td>\n",
       "      <td>0.70</td>\n",
       "      <td>0.50</td>\n",
       "      <td>-0.72</td>\n",
       "    </tr>\n",
       "    <tr>\n",
       "      <th>flavanoids</th>\n",
       "      <td>0.24</td>\n",
       "      <td>-0.41</td>\n",
       "      <td>0.12</td>\n",
       "      <td>-0.35</td>\n",
       "      <td>0.20</td>\n",
       "      <td>0.86</td>\n",
       "      <td>1.00</td>\n",
       "      <td>-0.54</td>\n",
       "      <td>0.65</td>\n",
       "      <td>-0.17</td>\n",
       "      <td>0.54</td>\n",
       "      <td>0.79</td>\n",
       "      <td>0.49</td>\n",
       "      <td>-0.85</td>\n",
       "    </tr>\n",
       "    <tr>\n",
       "      <th>nonflavanoid_phenols</th>\n",
       "      <td>-0.16</td>\n",
       "      <td>0.29</td>\n",
       "      <td>0.19</td>\n",
       "      <td>0.36</td>\n",
       "      <td>-0.26</td>\n",
       "      <td>-0.45</td>\n",
       "      <td>-0.54</td>\n",
       "      <td>1.00</td>\n",
       "      <td>-0.37</td>\n",
       "      <td>0.14</td>\n",
       "      <td>-0.26</td>\n",
       "      <td>-0.50</td>\n",
       "      <td>-0.31</td>\n",
       "      <td>0.49</td>\n",
       "    </tr>\n",
       "    <tr>\n",
       "      <th>proanthocyanins</th>\n",
       "      <td>0.14</td>\n",
       "      <td>-0.22</td>\n",
       "      <td>0.01</td>\n",
       "      <td>-0.20</td>\n",
       "      <td>0.24</td>\n",
       "      <td>0.61</td>\n",
       "      <td>0.65</td>\n",
       "      <td>-0.37</td>\n",
       "      <td>1.00</td>\n",
       "      <td>-0.03</td>\n",
       "      <td>0.30</td>\n",
       "      <td>0.52</td>\n",
       "      <td>0.33</td>\n",
       "      <td>-0.50</td>\n",
       "    </tr>\n",
       "    <tr>\n",
       "      <th>color_intensity</th>\n",
       "      <td>0.55</td>\n",
       "      <td>0.25</td>\n",
       "      <td>0.26</td>\n",
       "      <td>0.02</td>\n",
       "      <td>0.20</td>\n",
       "      <td>-0.06</td>\n",
       "      <td>-0.17</td>\n",
       "      <td>0.14</td>\n",
       "      <td>-0.03</td>\n",
       "      <td>1.00</td>\n",
       "      <td>-0.52</td>\n",
       "      <td>-0.43</td>\n",
       "      <td>0.32</td>\n",
       "      <td>0.27</td>\n",
       "    </tr>\n",
       "    <tr>\n",
       "      <th>hue</th>\n",
       "      <td>-0.07</td>\n",
       "      <td>-0.56</td>\n",
       "      <td>-0.07</td>\n",
       "      <td>-0.27</td>\n",
       "      <td>0.06</td>\n",
       "      <td>0.43</td>\n",
       "      <td>0.54</td>\n",
       "      <td>-0.26</td>\n",
       "      <td>0.30</td>\n",
       "      <td>-0.52</td>\n",
       "      <td>1.00</td>\n",
       "      <td>0.57</td>\n",
       "      <td>0.24</td>\n",
       "      <td>-0.62</td>\n",
       "    </tr>\n",
       "    <tr>\n",
       "      <th>od280/od315_of_diluted_wines</th>\n",
       "      <td>0.07</td>\n",
       "      <td>-0.37</td>\n",
       "      <td>0.00</td>\n",
       "      <td>-0.28</td>\n",
       "      <td>0.07</td>\n",
       "      <td>0.70</td>\n",
       "      <td>0.79</td>\n",
       "      <td>-0.50</td>\n",
       "      <td>0.52</td>\n",
       "      <td>-0.43</td>\n",
       "      <td>0.57</td>\n",
       "      <td>1.00</td>\n",
       "      <td>0.31</td>\n",
       "      <td>-0.79</td>\n",
       "    </tr>\n",
       "    <tr>\n",
       "      <th>proline</th>\n",
       "      <td>0.64</td>\n",
       "      <td>-0.19</td>\n",
       "      <td>0.22</td>\n",
       "      <td>-0.44</td>\n",
       "      <td>0.39</td>\n",
       "      <td>0.50</td>\n",
       "      <td>0.49</td>\n",
       "      <td>-0.31</td>\n",
       "      <td>0.33</td>\n",
       "      <td>0.32</td>\n",
       "      <td>0.24</td>\n",
       "      <td>0.31</td>\n",
       "      <td>1.00</td>\n",
       "      <td>-0.63</td>\n",
       "    </tr>\n",
       "    <tr>\n",
       "      <th>target</th>\n",
       "      <td>-0.33</td>\n",
       "      <td>0.44</td>\n",
       "      <td>-0.05</td>\n",
       "      <td>0.52</td>\n",
       "      <td>-0.21</td>\n",
       "      <td>-0.72</td>\n",
       "      <td>-0.85</td>\n",
       "      <td>0.49</td>\n",
       "      <td>-0.50</td>\n",
       "      <td>0.27</td>\n",
       "      <td>-0.62</td>\n",
       "      <td>-0.79</td>\n",
       "      <td>-0.63</td>\n",
       "      <td>1.00</td>\n",
       "    </tr>\n",
       "  </tbody>\n",
       "</table>\n",
       "</div>"
      ],
      "text/plain": [
       "                              alcohol  malic_acid   ash  alcalinity_of_ash  \\\n",
       "alcohol                          1.00        0.09  0.21              -0.31   \n",
       "malic_acid                       0.09        1.00  0.16               0.29   \n",
       "ash                              0.21        0.16  1.00               0.44   \n",
       "alcalinity_of_ash               -0.31        0.29  0.44               1.00   \n",
       "magnesium                        0.27       -0.05  0.29              -0.08   \n",
       "total_phenols                    0.29       -0.34  0.13              -0.32   \n",
       "flavanoids                       0.24       -0.41  0.12              -0.35   \n",
       "nonflavanoid_phenols            -0.16        0.29  0.19               0.36   \n",
       "proanthocyanins                  0.14       -0.22  0.01              -0.20   \n",
       "color_intensity                  0.55        0.25  0.26               0.02   \n",
       "hue                             -0.07       -0.56 -0.07              -0.27   \n",
       "od280/od315_of_diluted_wines     0.07       -0.37  0.00              -0.28   \n",
       "proline                          0.64       -0.19  0.22              -0.44   \n",
       "target                          -0.33        0.44 -0.05               0.52   \n",
       "\n",
       "                              magnesium  total_phenols  flavanoids  \\\n",
       "alcohol                            0.27           0.29        0.24   \n",
       "malic_acid                        -0.05          -0.34       -0.41   \n",
       "ash                                0.29           0.13        0.12   \n",
       "alcalinity_of_ash                 -0.08          -0.32       -0.35   \n",
       "magnesium                          1.00           0.21        0.20   \n",
       "total_phenols                      0.21           1.00        0.86   \n",
       "flavanoids                         0.20           0.86        1.00   \n",
       "nonflavanoid_phenols              -0.26          -0.45       -0.54   \n",
       "proanthocyanins                    0.24           0.61        0.65   \n",
       "color_intensity                    0.20          -0.06       -0.17   \n",
       "hue                                0.06           0.43        0.54   \n",
       "od280/od315_of_diluted_wines       0.07           0.70        0.79   \n",
       "proline                            0.39           0.50        0.49   \n",
       "target                            -0.21          -0.72       -0.85   \n",
       "\n",
       "                              nonflavanoid_phenols  proanthocyanins  \\\n",
       "alcohol                                      -0.16             0.14   \n",
       "malic_acid                                    0.29            -0.22   \n",
       "ash                                           0.19             0.01   \n",
       "alcalinity_of_ash                             0.36            -0.20   \n",
       "magnesium                                    -0.26             0.24   \n",
       "total_phenols                                -0.45             0.61   \n",
       "flavanoids                                   -0.54             0.65   \n",
       "nonflavanoid_phenols                          1.00            -0.37   \n",
       "proanthocyanins                              -0.37             1.00   \n",
       "color_intensity                               0.14            -0.03   \n",
       "hue                                          -0.26             0.30   \n",
       "od280/od315_of_diluted_wines                 -0.50             0.52   \n",
       "proline                                      -0.31             0.33   \n",
       "target                                        0.49            -0.50   \n",
       "\n",
       "                              color_intensity   hue  \\\n",
       "alcohol                                  0.55 -0.07   \n",
       "malic_acid                               0.25 -0.56   \n",
       "ash                                      0.26 -0.07   \n",
       "alcalinity_of_ash                        0.02 -0.27   \n",
       "magnesium                                0.20  0.06   \n",
       "total_phenols                           -0.06  0.43   \n",
       "flavanoids                              -0.17  0.54   \n",
       "nonflavanoid_phenols                     0.14 -0.26   \n",
       "proanthocyanins                         -0.03  0.30   \n",
       "color_intensity                          1.00 -0.52   \n",
       "hue                                     -0.52  1.00   \n",
       "od280/od315_of_diluted_wines            -0.43  0.57   \n",
       "proline                                  0.32  0.24   \n",
       "target                                   0.27 -0.62   \n",
       "\n",
       "                              od280/od315_of_diluted_wines  proline  target  \n",
       "alcohol                                               0.07     0.64   -0.33  \n",
       "malic_acid                                           -0.37    -0.19    0.44  \n",
       "ash                                                   0.00     0.22   -0.05  \n",
       "alcalinity_of_ash                                    -0.28    -0.44    0.52  \n",
       "magnesium                                             0.07     0.39   -0.21  \n",
       "total_phenols                                         0.70     0.50   -0.72  \n",
       "flavanoids                                            0.79     0.49   -0.85  \n",
       "nonflavanoid_phenols                                 -0.50    -0.31    0.49  \n",
       "proanthocyanins                                       0.52     0.33   -0.50  \n",
       "color_intensity                                      -0.43     0.32    0.27  \n",
       "hue                                                   0.57     0.24   -0.62  \n",
       "od280/od315_of_diluted_wines                          1.00     0.31   -0.79  \n",
       "proline                                               0.31     1.00   -0.63  \n",
       "target                                               -0.79    -0.63    1.00  "
      ]
     },
     "execution_count": 12,
     "metadata": {},
     "output_type": "execute_result"
    }
   ],
   "source": [
    "corr_matrix = data.corr().round(2)\n",
    "corr_matrix"
   ]
  },
  {
   "cell_type": "markdown",
   "id": "ab3b4bcc",
   "metadata": {
    "id": "ab3b4bcc",
    "papermill": {
     "duration": 0.026545,
     "end_time": "2021-08-10T08:37:06.591695",
     "exception": false,
     "start_time": "2021-08-10T08:37:06.565150",
     "status": "completed"
    },
    "tags": []
   },
   "source": [
    "✅ This completes Set 5: Column Aggregations (Exercises 41-50)  \n",
    "Original exercises for Datatable package can be found [here](https://github.com/vopani/datatableton)"
   ]
  }
 ],
 "metadata": {
  "colab": {
   "name": "05_column_aggregations_exercises.ipynb",
   "provenance": []
  },
  "kernelspec": {
   "display_name": "pandas_exercises",
   "language": "python",
   "name": "pandas_exercises"
  },
  "language_info": {
   "codemirror_mode": {
    "name": "ipython",
    "version": 3
   },
   "file_extension": ".py",
   "mimetype": "text/x-python",
   "name": "python",
   "nbconvert_exporter": "python",
   "pygments_lexer": "ipython3",
   "version": "3.8.10"
  },
  "papermill": {
   "default_parameters": {},
   "duration": 53.883329,
   "end_time": "2021-08-10T08:37:07.930368",
   "environment_variables": {},
   "exception": null,
   "input_path": "__notebook__.ipynb",
   "output_path": "__notebook__.ipynb",
   "parameters": {},
   "start_time": "2021-08-10T08:36:14.047039",
   "version": "2.3.3"
  }
 },
 "nbformat": 4,
 "nbformat_minor": 5
}
