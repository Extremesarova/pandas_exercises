{
 "cells": [
  {
   "cell_type": "markdown",
   "id": "9f8cd220",
   "metadata": {
    "id": "9f8cd220",
    "papermill": {
     "duration": 0.012314,
     "end_time": "2021-07-22T05:37:57.776783",
     "exception": false,
     "start_time": "2021-07-22T05:37:57.764469",
     "status": "completed"
    },
    "tags": []
   },
   "source": [
    "<center>\n",
    "    This is Set 6: Grouping Methods (Exercises 51-60)\n",
    "</center>"
   ]
  },
  {
   "cell_type": "markdown",
   "id": "6d7c6229",
   "metadata": {
    "id": "6d7c6229",
    "papermill": {
     "duration": 0.012271,
     "end_time": "2021-07-22T05:37:57.801535",
     "exception": false,
     "start_time": "2021-07-22T05:37:57.789264",
     "status": "completed"
    },
    "tags": []
   },
   "source": [
    "**Prerequisites**\n",
    "* The sample dataset [penguins](https://github.com/mwaskom/seaborn-data/blob/master/penguins.csv) from seaborn will be used for the exercises.\n",
    "* seaborn package"
   ]
  },
  {
   "cell_type": "code",
   "execution_count": 1,
   "id": "758e5a8c",
   "metadata": {
    "id": "758e5a8c",
    "outputId": "9afbc8a1-d02d-4f5e-e3fe-1f619bca30d8",
    "papermill": {
     "duration": 2.746238,
     "end_time": "2021-07-22T05:38:38.752563",
     "exception": false,
     "start_time": "2021-07-22T05:38:36.006325",
     "status": "completed"
    },
    "tags": []
   },
   "outputs": [
    {
     "data": {
      "text/html": [
       "<div>\n",
       "<style scoped>\n",
       "    .dataframe tbody tr th:only-of-type {\n",
       "        vertical-align: middle;\n",
       "    }\n",
       "\n",
       "    .dataframe tbody tr th {\n",
       "        vertical-align: top;\n",
       "    }\n",
       "\n",
       "    .dataframe thead th {\n",
       "        text-align: right;\n",
       "    }\n",
       "</style>\n",
       "<table border=\"1\" class=\"dataframe\">\n",
       "  <thead>\n",
       "    <tr style=\"text-align: right;\">\n",
       "      <th></th>\n",
       "      <th>species</th>\n",
       "      <th>island</th>\n",
       "      <th>bill_length_mm</th>\n",
       "      <th>bill_depth_mm</th>\n",
       "      <th>flipper_length_mm</th>\n",
       "      <th>body_mass_g</th>\n",
       "      <th>sex</th>\n",
       "    </tr>\n",
       "  </thead>\n",
       "  <tbody>\n",
       "    <tr>\n",
       "      <th>0</th>\n",
       "      <td>Adelie</td>\n",
       "      <td>Torgersen</td>\n",
       "      <td>39.1</td>\n",
       "      <td>18.7</td>\n",
       "      <td>181.0</td>\n",
       "      <td>3750.0</td>\n",
       "      <td>Male</td>\n",
       "    </tr>\n",
       "    <tr>\n",
       "      <th>1</th>\n",
       "      <td>Adelie</td>\n",
       "      <td>Torgersen</td>\n",
       "      <td>39.5</td>\n",
       "      <td>17.4</td>\n",
       "      <td>186.0</td>\n",
       "      <td>3800.0</td>\n",
       "      <td>Female</td>\n",
       "    </tr>\n",
       "    <tr>\n",
       "      <th>2</th>\n",
       "      <td>Adelie</td>\n",
       "      <td>Torgersen</td>\n",
       "      <td>40.3</td>\n",
       "      <td>18.0</td>\n",
       "      <td>195.0</td>\n",
       "      <td>3250.0</td>\n",
       "      <td>Female</td>\n",
       "    </tr>\n",
       "    <tr>\n",
       "      <th>3</th>\n",
       "      <td>Adelie</td>\n",
       "      <td>Torgersen</td>\n",
       "      <td>NaN</td>\n",
       "      <td>NaN</td>\n",
       "      <td>NaN</td>\n",
       "      <td>NaN</td>\n",
       "      <td>NaN</td>\n",
       "    </tr>\n",
       "    <tr>\n",
       "      <th>4</th>\n",
       "      <td>Adelie</td>\n",
       "      <td>Torgersen</td>\n",
       "      <td>36.7</td>\n",
       "      <td>19.3</td>\n",
       "      <td>193.0</td>\n",
       "      <td>3450.0</td>\n",
       "      <td>Female</td>\n",
       "    </tr>\n",
       "  </tbody>\n",
       "</table>\n",
       "</div>"
      ],
      "text/plain": [
       "  species     island  bill_length_mm  bill_depth_mm  flipper_length_mm  \\\n",
       "0  Adelie  Torgersen            39.1           18.7              181.0   \n",
       "1  Adelie  Torgersen            39.5           17.4              186.0   \n",
       "2  Adelie  Torgersen            40.3           18.0              195.0   \n",
       "3  Adelie  Torgersen             NaN            NaN                NaN   \n",
       "4  Adelie  Torgersen            36.7           19.3              193.0   \n",
       "\n",
       "   body_mass_g     sex  \n",
       "0       3750.0    Male  \n",
       "1       3800.0  Female  \n",
       "2       3250.0  Female  \n",
       "3          NaN     NaN  \n",
       "4       3450.0  Female  "
      ]
     },
     "execution_count": 1,
     "metadata": {},
     "output_type": "execute_result"
    }
   ],
   "source": [
    "import pandas as pd\n",
    "from seaborn import load_dataset\n",
    "\n",
    "data = pd.DataFrame(load_dataset('penguins'))\n",
    "data.head()"
   ]
  },
  {
   "cell_type": "markdown",
   "id": "e0550b7d",
   "metadata": {
    "id": "e0550b7d",
    "papermill": {
     "duration": 0.022044,
     "end_time": "2021-07-22T05:38:38.797036",
     "exception": false,
     "start_time": "2021-07-22T05:38:38.774992",
     "status": "completed"
    },
    "tags": []
   },
   "source": [
    "**Exercise 51: Calculate the number of rows of each `species` in `data`**"
   ]
  },
  {
   "cell_type": "code",
   "execution_count": 2,
   "id": "7655048d",
   "metadata": {
    "id": "7655048d",
    "papermill": {
     "duration": 0.020022,
     "end_time": "2021-07-22T05:38:38.837319",
     "exception": false,
     "start_time": "2021-07-22T05:38:38.817297",
     "status": "completed"
    },
    "tags": []
   },
   "outputs": [
    {
     "data": {
      "text/plain": [
       "species\n",
       "Adelie       152\n",
       "Chinstrap     68\n",
       "Gentoo       124\n",
       "Name: species, dtype: int64"
      ]
     },
     "execution_count": 2,
     "metadata": {},
     "output_type": "execute_result"
    }
   ],
   "source": [
    "data.groupby('species')['species'].count()"
   ]
  },
  {
   "cell_type": "markdown",
   "id": "b38aef83",
   "metadata": {
    "id": "b38aef83",
    "papermill": {
     "duration": 0.01994,
     "end_time": "2021-07-22T05:38:38.877875",
     "exception": false,
     "start_time": "2021-07-22T05:38:38.857935",
     "status": "completed"
    },
    "tags": []
   },
   "source": [
    "**Exercise 52: Calculate the sum of `body_mass_g` by `island` in `data`**"
   ]
  },
  {
   "cell_type": "code",
   "execution_count": 3,
   "id": "87ab2348",
   "metadata": {
    "id": "87ab2348",
    "papermill": {
     "duration": 0.020029,
     "end_time": "2021-07-22T05:38:38.918149",
     "exception": false,
     "start_time": "2021-07-22T05:38:38.898120",
     "status": "completed"
    },
    "tags": []
   },
   "outputs": [
    {
     "data": {
      "text/plain": [
       "island\n",
       "Biscoe       787575.0\n",
       "Dream        460400.0\n",
       "Torgersen    189025.0\n",
       "Name: body_mass_g, dtype: float64"
      ]
     },
     "execution_count": 3,
     "metadata": {},
     "output_type": "execute_result"
    }
   ],
   "source": [
    "data.groupby('island')['body_mass_g'].sum()"
   ]
  },
  {
   "cell_type": "markdown",
   "id": "4ff4665f",
   "metadata": {
    "id": "4ff4665f",
    "papermill": {
     "duration": 0.01979,
     "end_time": "2021-07-22T05:38:38.958214",
     "exception": false,
     "start_time": "2021-07-22T05:38:38.938424",
     "status": "completed"
    },
    "tags": []
   },
   "source": [
    "**Exercise 53: Calculate the mean of `body_mass_g` by non-null `sex` in `data`**"
   ]
  },
  {
   "cell_type": "code",
   "execution_count": 4,
   "id": "33f86cfd",
   "metadata": {
    "id": "33f86cfd",
    "papermill": {
     "duration": 0.021811,
     "end_time": "2021-07-22T05:38:39.000427",
     "exception": false,
     "start_time": "2021-07-22T05:38:38.978616",
     "status": "completed"
    },
    "tags": []
   },
   "outputs": [
    {
     "data": {
      "text/plain": [
       "sex\n",
       "Female    3862.272727\n",
       "Male      4545.684524\n",
       "Name: body_mass_g, dtype: float64"
      ]
     },
     "execution_count": 4,
     "metadata": {},
     "output_type": "execute_result"
    }
   ],
   "source": [
    "data.groupby('sex')['body_mass_g'].mean()"
   ]
  },
  {
   "cell_type": "markdown",
   "id": "f99b83c5",
   "metadata": {
    "id": "f99b83c5",
    "papermill": {
     "duration": 0.019953,
     "end_time": "2021-07-22T05:38:39.040807",
     "exception": false,
     "start_time": "2021-07-22T05:38:39.020854",
     "status": "completed"
    },
    "tags": []
   },
   "source": [
    "**Exercise 54: Calculate the maximum and minimum of `flipper_length_mm` together by `species` in `data`**"
   ]
  },
  {
   "cell_type": "code",
   "execution_count": 5,
   "id": "122fe439",
   "metadata": {
    "id": "122fe439",
    "papermill": {
     "duration": 0.019895,
     "end_time": "2021-07-22T05:38:39.081095",
     "exception": false,
     "start_time": "2021-07-22T05:38:39.061200",
     "status": "completed"
    },
    "tags": []
   },
   "outputs": [
    {
     "data": {
      "text/html": [
       "<div>\n",
       "<style scoped>\n",
       "    .dataframe tbody tr th:only-of-type {\n",
       "        vertical-align: middle;\n",
       "    }\n",
       "\n",
       "    .dataframe tbody tr th {\n",
       "        vertical-align: top;\n",
       "    }\n",
       "\n",
       "    .dataframe thead th {\n",
       "        text-align: right;\n",
       "    }\n",
       "</style>\n",
       "<table border=\"1\" class=\"dataframe\">\n",
       "  <thead>\n",
       "    <tr style=\"text-align: right;\">\n",
       "      <th></th>\n",
       "      <th>min</th>\n",
       "      <th>max</th>\n",
       "    </tr>\n",
       "    <tr>\n",
       "      <th>species</th>\n",
       "      <th></th>\n",
       "      <th></th>\n",
       "    </tr>\n",
       "  </thead>\n",
       "  <tbody>\n",
       "    <tr>\n",
       "      <th>Adelie</th>\n",
       "      <td>172.0</td>\n",
       "      <td>210.0</td>\n",
       "    </tr>\n",
       "    <tr>\n",
       "      <th>Chinstrap</th>\n",
       "      <td>178.0</td>\n",
       "      <td>212.0</td>\n",
       "    </tr>\n",
       "    <tr>\n",
       "      <th>Gentoo</th>\n",
       "      <td>203.0</td>\n",
       "      <td>231.0</td>\n",
       "    </tr>\n",
       "  </tbody>\n",
       "</table>\n",
       "</div>"
      ],
      "text/plain": [
       "             min    max\n",
       "species                \n",
       "Adelie     172.0  210.0\n",
       "Chinstrap  178.0  212.0\n",
       "Gentoo     203.0  231.0"
      ]
     },
     "execution_count": 5,
     "metadata": {},
     "output_type": "execute_result"
    }
   ],
   "source": [
    "data.groupby('species')['flipper_length_mm'].agg([\"min\", \"max\"])"
   ]
  },
  {
   "cell_type": "markdown",
   "id": "3a9064a3",
   "metadata": {
    "id": "3a9064a3",
    "papermill": {
     "duration": 0.020411,
     "end_time": "2021-07-22T05:38:39.122173",
     "exception": false,
     "start_time": "2021-07-22T05:38:39.101762",
     "status": "completed"
    },
    "tags": []
   },
   "source": [
    "**Exercise 55: Calculate the median of `body_mass_g` by `species` and `sex` in `data`**"
   ]
  },
  {
   "cell_type": "code",
   "execution_count": 6,
   "id": "4491cf01-9326-4bbe-afce-a752052ecc02",
   "metadata": {
    "id": "43022583",
    "papermill": {
     "duration": 0.019975,
     "end_time": "2021-07-22T05:38:39.162548",
     "exception": false,
     "start_time": "2021-07-22T05:38:39.142573",
     "status": "completed"
    },
    "tags": []
   },
   "outputs": [
    {
     "data": {
      "text/plain": [
       "species    sex   \n",
       "Adelie     Female    3400.0\n",
       "           Male      4000.0\n",
       "Chinstrap  Female    3550.0\n",
       "           Male      3950.0\n",
       "Gentoo     Female    4700.0\n",
       "           Male      5500.0\n",
       "Name: body_mass_g, dtype: float64"
      ]
     },
     "execution_count": 6,
     "metadata": {},
     "output_type": "execute_result"
    }
   ],
   "source": [
    "data.groupby(['species', 'sex'])['body_mass_g'].median()"
   ]
  },
  {
   "cell_type": "markdown",
   "id": "742a3525",
   "metadata": {
    "id": "742a3525",
    "papermill": {
     "duration": 0.01984,
     "end_time": "2021-07-22T05:38:39.202695",
     "exception": false,
     "start_time": "2021-07-22T05:38:39.182855",
     "status": "completed"
    },
    "tags": []
   },
   "source": [
    "**Exercise 56: Calculate the standard deviation of `bill_depth_mm` in cm instead of mm by `island` in `data`**"
   ]
  },
  {
   "cell_type": "code",
   "execution_count": 7,
   "id": "ea6cbe0e",
   "metadata": {
    "id": "ea6cbe0e",
    "papermill": {
     "duration": 0.019861,
     "end_time": "2021-07-22T05:38:39.242884",
     "exception": false,
     "start_time": "2021-07-22T05:38:39.223023",
     "status": "completed"
    },
    "tags": []
   },
   "outputs": [
    {
     "data": {
      "text/plain": [
       "island\n",
       "Biscoe       0.182072\n",
       "Dream        0.113312\n",
       "Torgersen    0.133945\n",
       "Name: bill_depth_mm, dtype: float64"
      ]
     },
     "execution_count": 7,
     "metadata": {},
     "output_type": "execute_result"
    }
   ],
   "source": [
    "data.groupby('island')['bill_depth_mm'].std() / 10"
   ]
  },
  {
   "cell_type": "markdown",
   "id": "4186cb1e",
   "metadata": {
    "id": "4186cb1e",
    "papermill": {
     "duration": 0.019843,
     "end_time": "2021-07-22T05:38:39.282941",
     "exception": false,
     "start_time": "2021-07-22T05:38:39.263098",
     "status": "completed"
    },
    "tags": []
   },
   "source": [
    "**Exercise 57: Calculate the covariance between `flipper_length_mm` and `body_mass_g` by `species` and `island` in `data`**"
   ]
  },
  {
   "cell_type": "code",
   "execution_count": 8,
   "id": "454b820d-a9c4-46bc-9732-2ecdc87b8ae7",
   "metadata": {},
   "outputs": [
    {
     "data": {
      "text/plain": [
       "species    island   \n",
       "Adelie     Biscoe       1727.021670\n",
       "           Dream        1378.652597\n",
       "           Torgersen    1209.225490\n",
       "Chinstrap  Dream        1758.538191\n",
       "Gentoo     Biscoe       2297.144476\n",
       "dtype: float64"
      ]
     },
     "execution_count": 8,
     "metadata": {},
     "output_type": "execute_result"
    }
   ],
   "source": [
    "data.groupby(['species', 'island']).apply(lambda x: x['flipper_length_mm'].cov(x['body_mass_g']))"
   ]
  },
  {
   "cell_type": "markdown",
   "id": "8a1e4446",
   "metadata": {
    "id": "8a1e4446",
    "papermill": {
     "duration": 0.020888,
     "end_time": "2021-07-22T05:38:39.363969",
     "exception": false,
     "start_time": "2021-07-22T05:38:39.343081",
     "status": "completed"
    },
    "tags": []
   },
   "source": [
    "**Exercise 58: Calculate the absolute correlation between `bill_length_mm` and `bill_depth_mm` by `species` and `sex` in `data`**"
   ]
  },
  {
   "cell_type": "code",
   "execution_count": 9,
   "id": "448e25ba-4e21-4287-815a-a98c572faebb",
   "metadata": {
    "id": "d9eed454",
    "papermill": {
     "duration": 0.020018,
     "end_time": "2021-07-22T05:38:39.404566",
     "exception": false,
     "start_time": "2021-07-22T05:38:39.384548",
     "status": "completed"
    },
    "tags": []
   },
   "outputs": [
    {
     "data": {
      "text/plain": [
       "species    sex   \n",
       "Adelie     Female    0.160636\n",
       "           Male      0.038247\n",
       "Chinstrap  Female    0.256317\n",
       "           Male      0.446270\n",
       "Gentoo     Female    0.430444\n",
       "           Male      0.306767\n",
       "dtype: float64"
      ]
     },
     "execution_count": 9,
     "metadata": {},
     "output_type": "execute_result"
    }
   ],
   "source": [
    "data.groupby(['species', 'sex']).apply(lambda x: abs(x['bill_length_mm'].corr(x['bill_depth_mm'])))"
   ]
  },
  {
   "cell_type": "markdown",
   "id": "325c523c",
   "metadata": {
    "id": "325c523c",
    "papermill": {
     "duration": 0.019887,
     "end_time": "2021-07-22T05:38:39.444839",
     "exception": false,
     "start_time": "2021-07-22T05:38:39.424952",
     "status": "completed"
    },
    "tags": []
   },
   "source": [
    "**Exercise 59: Calculate the number of null values in `sex` by `island` in `data`**"
   ]
  },
  {
   "cell_type": "code",
   "execution_count": 10,
   "id": "7a60bcbf",
   "metadata": {
    "id": "7a60bcbf",
    "papermill": {
     "duration": 0.019961,
     "end_time": "2021-07-22T05:38:39.485084",
     "exception": false,
     "start_time": "2021-07-22T05:38:39.465123",
     "status": "completed"
    },
    "tags": []
   },
   "outputs": [
    {
     "data": {
      "text/plain": [
       "island\n",
       "Biscoe       5\n",
       "Dream        1\n",
       "Torgersen    5\n",
       "Name: sex, dtype: int64"
      ]
     },
     "execution_count": 10,
     "metadata": {},
     "output_type": "execute_result"
    }
   ],
   "source": [
    "data.groupby('island')['sex'].apply(lambda x: x.isnull().sum())"
   ]
  },
  {
   "cell_type": "markdown",
   "id": "0d922e12",
   "metadata": {
    "id": "0d922e12",
    "papermill": {
     "duration": 0.019844,
     "end_time": "2021-07-22T05:38:39.525138",
     "exception": false,
     "start_time": "2021-07-22T05:38:39.505294",
     "status": "completed"
    },
    "tags": []
   },
   "source": [
    "**Exercise 60: Sort `data` on `bill_depth_mm` grouped by `sex` and assign it to `data_gs`**"
   ]
  },
  {
   "cell_type": "code",
   "execution_count": 11,
   "id": "669ce83f",
   "metadata": {
    "id": "669ce83f",
    "papermill": {
     "duration": 0.020023,
     "end_time": "2021-07-22T05:38:39.565350",
     "exception": false,
     "start_time": "2021-07-22T05:38:39.545327",
     "status": "completed"
    },
    "tags": []
   },
   "outputs": [
    {
     "data": {
      "text/html": [
       "<div>\n",
       "<style scoped>\n",
       "    .dataframe tbody tr th:only-of-type {\n",
       "        vertical-align: middle;\n",
       "    }\n",
       "\n",
       "    .dataframe tbody tr th {\n",
       "        vertical-align: top;\n",
       "    }\n",
       "\n",
       "    .dataframe thead th {\n",
       "        text-align: right;\n",
       "    }\n",
       "</style>\n",
       "<table border=\"1\" class=\"dataframe\">\n",
       "  <thead>\n",
       "    <tr style=\"text-align: right;\">\n",
       "      <th></th>\n",
       "      <th></th>\n",
       "      <th>species</th>\n",
       "      <th>island</th>\n",
       "      <th>bill_length_mm</th>\n",
       "      <th>bill_depth_mm</th>\n",
       "      <th>flipper_length_mm</th>\n",
       "      <th>body_mass_g</th>\n",
       "      <th>sex</th>\n",
       "    </tr>\n",
       "    <tr>\n",
       "      <th>sex</th>\n",
       "      <th></th>\n",
       "      <th></th>\n",
       "      <th></th>\n",
       "      <th></th>\n",
       "      <th></th>\n",
       "      <th></th>\n",
       "      <th></th>\n",
       "      <th></th>\n",
       "    </tr>\n",
       "  </thead>\n",
       "  <tbody>\n",
       "    <tr>\n",
       "      <th rowspan=\"5\" valign=\"top\">Female</th>\n",
       "      <th>244</th>\n",
       "      <td>Gentoo</td>\n",
       "      <td>Biscoe</td>\n",
       "      <td>42.9</td>\n",
       "      <td>13.1</td>\n",
       "      <td>215.0</td>\n",
       "      <td>5000.0</td>\n",
       "      <td>Female</td>\n",
       "    </tr>\n",
       "    <tr>\n",
       "      <th>220</th>\n",
       "      <td>Gentoo</td>\n",
       "      <td>Biscoe</td>\n",
       "      <td>46.1</td>\n",
       "      <td>13.2</td>\n",
       "      <td>211.0</td>\n",
       "      <td>4500.0</td>\n",
       "      <td>Female</td>\n",
       "    </tr>\n",
       "    <tr>\n",
       "      <th>268</th>\n",
       "      <td>Gentoo</td>\n",
       "      <td>Biscoe</td>\n",
       "      <td>44.9</td>\n",
       "      <td>13.3</td>\n",
       "      <td>213.0</td>\n",
       "      <td>5100.0</td>\n",
       "      <td>Female</td>\n",
       "    </tr>\n",
       "    <tr>\n",
       "      <th>228</th>\n",
       "      <td>Gentoo</td>\n",
       "      <td>Biscoe</td>\n",
       "      <td>43.3</td>\n",
       "      <td>13.4</td>\n",
       "      <td>209.0</td>\n",
       "      <td>4400.0</td>\n",
       "      <td>Female</td>\n",
       "    </tr>\n",
       "    <tr>\n",
       "      <th>225</th>\n",
       "      <td>Gentoo</td>\n",
       "      <td>Biscoe</td>\n",
       "      <td>46.5</td>\n",
       "      <td>13.5</td>\n",
       "      <td>210.0</td>\n",
       "      <td>4550.0</td>\n",
       "      <td>Female</td>\n",
       "    </tr>\n",
       "    <tr>\n",
       "      <th>...</th>\n",
       "      <th>...</th>\n",
       "      <td>...</td>\n",
       "      <td>...</td>\n",
       "      <td>...</td>\n",
       "      <td>...</td>\n",
       "      <td>...</td>\n",
       "      <td>...</td>\n",
       "      <td>...</td>\n",
       "    </tr>\n",
       "    <tr>\n",
       "      <th rowspan=\"5\" valign=\"top\">Male</th>\n",
       "      <th>35</th>\n",
       "      <td>Adelie</td>\n",
       "      <td>Dream</td>\n",
       "      <td>39.2</td>\n",
       "      <td>21.1</td>\n",
       "      <td>196.0</td>\n",
       "      <td>4150.0</td>\n",
       "      <td>Male</td>\n",
       "    </tr>\n",
       "    <tr>\n",
       "      <th>61</th>\n",
       "      <td>Adelie</td>\n",
       "      <td>Biscoe</td>\n",
       "      <td>41.3</td>\n",
       "      <td>21.1</td>\n",
       "      <td>195.0</td>\n",
       "      <td>4400.0</td>\n",
       "      <td>Male</td>\n",
       "    </tr>\n",
       "    <tr>\n",
       "      <th>49</th>\n",
       "      <td>Adelie</td>\n",
       "      <td>Dream</td>\n",
       "      <td>42.3</td>\n",
       "      <td>21.2</td>\n",
       "      <td>191.0</td>\n",
       "      <td>4150.0</td>\n",
       "      <td>Male</td>\n",
       "    </tr>\n",
       "    <tr>\n",
       "      <th>13</th>\n",
       "      <td>Adelie</td>\n",
       "      <td>Torgersen</td>\n",
       "      <td>38.6</td>\n",
       "      <td>21.2</td>\n",
       "      <td>191.0</td>\n",
       "      <td>3800.0</td>\n",
       "      <td>Male</td>\n",
       "    </tr>\n",
       "    <tr>\n",
       "      <th>19</th>\n",
       "      <td>Adelie</td>\n",
       "      <td>Torgersen</td>\n",
       "      <td>46.0</td>\n",
       "      <td>21.5</td>\n",
       "      <td>194.0</td>\n",
       "      <td>4200.0</td>\n",
       "      <td>Male</td>\n",
       "    </tr>\n",
       "  </tbody>\n",
       "</table>\n",
       "<p>333 rows × 7 columns</p>\n",
       "</div>"
      ],
      "text/plain": [
       "           species     island  bill_length_mm  bill_depth_mm  \\\n",
       "sex                                                            \n",
       "Female 244  Gentoo     Biscoe            42.9           13.1   \n",
       "       220  Gentoo     Biscoe            46.1           13.2   \n",
       "       268  Gentoo     Biscoe            44.9           13.3   \n",
       "       228  Gentoo     Biscoe            43.3           13.4   \n",
       "       225  Gentoo     Biscoe            46.5           13.5   \n",
       "...            ...        ...             ...            ...   \n",
       "Male   35   Adelie      Dream            39.2           21.1   \n",
       "       61   Adelie     Biscoe            41.3           21.1   \n",
       "       49   Adelie      Dream            42.3           21.2   \n",
       "       13   Adelie  Torgersen            38.6           21.2   \n",
       "       19   Adelie  Torgersen            46.0           21.5   \n",
       "\n",
       "            flipper_length_mm  body_mass_g     sex  \n",
       "sex                                                 \n",
       "Female 244              215.0       5000.0  Female  \n",
       "       220              211.0       4500.0  Female  \n",
       "       268              213.0       5100.0  Female  \n",
       "       228              209.0       4400.0  Female  \n",
       "       225              210.0       4550.0  Female  \n",
       "...                       ...          ...     ...  \n",
       "Male   35               196.0       4150.0    Male  \n",
       "       61               195.0       4400.0    Male  \n",
       "       49               191.0       4150.0    Male  \n",
       "       13               191.0       3800.0    Male  \n",
       "       19               194.0       4200.0    Male  \n",
       "\n",
       "[333 rows x 7 columns]"
      ]
     },
     "execution_count": 11,
     "metadata": {},
     "output_type": "execute_result"
    }
   ],
   "source": [
    "data_gs = data.groupby('sex').apply(lambda x: x.sort_values('bill_depth_mm'))\n",
    "data_gs"
   ]
  },
  {
   "cell_type": "markdown",
   "id": "93ba7fec",
   "metadata": {
    "id": "93ba7fec",
    "papermill": {
     "duration": 0.019918,
     "end_time": "2021-07-22T05:38:39.605598",
     "exception": false,
     "start_time": "2021-07-22T05:38:39.585680",
     "status": "completed"
    },
    "tags": []
   },
   "source": [
    "✅ This completes Set 6: Grouping Methods (Exercises 51-60)\n",
    "\n",
    "Original exercises for Datatable package can be found [here](https://github.com/vopani/datatableton)"
   ]
  }
 ],
 "metadata": {
  "colab": {
   "name": "06_grouping_methods_exercises.ipynb",
   "provenance": []
  },
  "kernelspec": {
   "display_name": "pandas_exercises",
   "language": "python",
   "name": "pandas_exercises"
  },
  "language_info": {
   "codemirror_mode": {
    "name": "ipython",
    "version": 3
   },
   "file_extension": ".py",
   "mimetype": "text/x-python",
   "name": "python",
   "nbconvert_exporter": "python",
   "pygments_lexer": "ipython3",
   "version": "3.8.10"
  },
  "papermill": {
   "default_parameters": {},
   "duration": 49.72367,
   "end_time": "2021-07-22T05:38:40.335594",
   "environment_variables": {},
   "exception": null,
   "input_path": "__notebook__.ipynb",
   "output_path": "__notebook__.ipynb",
   "parameters": {},
   "start_time": "2021-07-22T05:37:50.611924",
   "version": "2.3.3"
  }
 },
 "nbformat": 4,
 "nbformat_minor": 5
}
